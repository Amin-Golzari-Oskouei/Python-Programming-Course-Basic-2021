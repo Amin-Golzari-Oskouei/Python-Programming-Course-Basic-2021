{
 "cells": [
  {
   "cell_type": "markdown",
   "metadata": {},
   "source": [
    "<img src=\"images/1-2-types-2019-page-003.jpg\" alt=\"SRTTU\" style=\"width: 1000px;\"/>"
   ]
  },
  {
   "cell_type": "markdown",
   "metadata": {},
   "source": [
    "<img src=\"images/1-2-types-2019-page-004.jpg\" alt=\"SRTTU\" style=\"width: 1000px;\"/>"
   ]
  },
  {
   "cell_type": "markdown",
   "metadata": {},
   "source": [
    "<img src=\"images/1-2-types-2019-page-015.jpg\" alt=\"SRTTU\" style=\"width: 1000px;\"/>"
   ]
  },
  {
   "cell_type": "markdown",
   "metadata": {},
   "source": [
    "<img src=\"images/1-2-types-2019-page-018.jpg\" alt=\"SRTTU\" style=\"width: 1000px;\"/>"
   ]
  },
  {
   "cell_type": "markdown",
   "metadata": {},
   "source": [
    "<img src=\"images/1-2-types-2019-page-022.jpg\" alt=\"SRTTU\" style=\"width: 1000px;\"/>"
   ]
  },
  {
   "cell_type": "code",
   "execution_count": null,
   "metadata": {
    "scrolled": true
   },
   "outputs": [],
   "source": [
    "\"\"\"\n",
    "Python Data Types:\n",
    "        str , int , float , bool , complex ,list , tuple , set , dict  , bytes , ...\n",
    "\"\"\""
   ]
  },
  {
   "cell_type": "code",
   "execution_count": null,
   "metadata": {},
   "outputs": [],
   "source": [
    "s = 'amin'  \n",
    "print(type(s))      # str"
   ]
  },
  {
   "cell_type": "code",
   "execution_count": null,
   "metadata": {},
   "outputs": [],
   "source": [
    "i = 2                \n",
    "print(type(i))      # int"
   ]
  },
  {
   "cell_type": "code",
   "execution_count": null,
   "metadata": {},
   "outputs": [],
   "source": [
    "f = 2.5       \n",
    "print(type(f))      # float"
   ]
  },
  {
   "cell_type": "code",
   "execution_count": null,
   "metadata": {},
   "outputs": [],
   "source": [
    "c = 2 + 3j          # 2 is the real part and 3 is imaginary\n",
    "print(type(c))      # complex"
   ]
  },
  {
   "cell_type": "code",
   "execution_count": null,
   "metadata": {},
   "outputs": [],
   "source": [
    "b = True       \n",
    "print(type(b))      # bool\n",
    "\n",
    "print(bool(5))      # True\n",
    "print(bool(-2))     # True\n",
    "print(bool('ali'))  # True \n",
    "\n",
    "print(bool(0))      # False\n",
    "print(bool(''))     # False"
   ]
  },
  {
   "cell_type": "code",
   "execution_count": null,
   "metadata": {},
   "outputs": [],
   "source": [
    "print(bool([]))     # False (empty list)\n",
    "print(bool({}))     # False (empty dictionary)\n",
    "print(bool(()))     # False (empty tuple)"
   ]
  },
  {
   "cell_type": "code",
   "execution_count": null,
   "metadata": {},
   "outputs": [],
   "source": [
    "print('--variable names---')\n",
    "\"\"\"\n",
    "    All identifiers must start with a letter or underscore (_), \n",
    "    you can't use digits.\n",
    "    Identifiers can contain letters, digits and underscores (_). \n",
    "    Identifiers can't be a keyword. \n",
    "    They can be of any length.\n",
    " \"\"\"\n",
    "\n",
    "print('a2'.isidentifier())      # True\n",
    "print('2a'.isidentifier())      # False\n",
    "print('_myvar'.isidentifier())  # True\n",
    "print('my_var'.isidentifier())  # True\n",
    "print('my-var'.isidentifier())  # False\n",
    "print('my var'.isidentifier())  # False\n",
    "print('my$'.isidentifier())     # False\n",
    "print('my#'.isidentifier())     # False"
   ]
  },
  {
   "cell_type": "code",
   "execution_count": null,
   "metadata": {},
   "outputs": [],
   "source": [
    "# You cannot use reserved words as variable names \n",
    "\n",
    "\"\"\"\n",
    "False \tclass \treturn\tis \t\tfinally \n",
    "None \tif\t\tfor \tlambda \tcontinue \n",
    "True \tdef \tfrom \twhile\tnonlocal\n",
    "and \tdel \tglobal \tnot \twith\n",
    "as  \telif \ttry\t\tor \t\tyield\n",
    "assert \telse \timport \tpass\n",
    "break \texcept \tin \t\traise\n",
    "\"\"\"\n",
    "from keyword import iskeyword\n",
    "print( iskeyword('if'))   # True"
   ]
  },
  {
   "cell_type": "markdown",
   "metadata": {},
   "source": [
    "<img src=\"images/1-2-types-2019-page-027.jpg\" alt=\"SRTTU\" style=\"width: 1000px;\"/>"
   ]
  },
  {
   "cell_type": "code",
   "execution_count": null,
   "metadata": {},
   "outputs": [],
   "source": [
    "print('---Python Casting---')\n",
    "\n",
    "i = 5\n",
    "print(float(i))     # 5.0\n"
   ]
  },
  {
   "cell_type": "code",
   "execution_count": null,
   "metadata": {},
   "outputs": [],
   "source": [
    "s ='12'\n",
    "print(int(s) + 1)   # 13"
   ]
  },
  {
   "cell_type": "code",
   "execution_count": null,
   "metadata": {},
   "outputs": [],
   "source": [
    "x = 1\n",
    "c = complex(x)\n",
    "print(c)            # (1+0j)"
   ]
  },
  {
   "cell_type": "code",
   "execution_count": null,
   "metadata": {},
   "outputs": [],
   "source": [
    "n = 12.5\n",
    "print('%i' % n)     # 12\n",
    "print('%f' % n)     # 12.500000\n",
    "print('%e' % n)     # 1.250000e+01"
   ]
  },
  {
   "cell_type": "code",
   "execution_count": null,
   "metadata": {},
   "outputs": [],
   "source": [
    "a = 5\n",
    "b = 1\n",
    "print('Five plus one is {a + b}')    # Five plus one is {a + b}\n",
    "print(f'Five plus one is {a + b}')   # Five plus one is 6"
   ]
  },
  {
   "cell_type": "code",
   "execution_count": null,
   "metadata": {},
   "outputs": [],
   "source": [
    "a = b = c = 5       # this statement assign 5 to c, b and a.\n",
    "print(a, b, c)      # 5 5 5 "
   ]
  },
  {
   "cell_type": "code",
   "execution_count": null,
   "metadata": {},
   "outputs": [],
   "source": [
    "x = 1         \n",
    "y = 2         \n",
    "y, x = x, y         # assign y value to x and x value to y\n",
    "print(x)            # 2\n",
    "print(y)            # 1"
   ]
  },
  {
   "cell_type": "code",
   "execution_count": null,
   "metadata": {},
   "outputs": [],
   "source": [
    "a = 1\n",
    "b = 2\n",
    "a, b = b, a + b\n",
    "print(a)           # 2\n",
    "print(b)           # 3 "
   ]
  },
  {
   "cell_type": "code",
   "execution_count": null,
   "metadata": {},
   "outputs": [],
   "source": [
    "print('---string---')\n",
    "#Slicing string  Syntax: s[start:end]\n",
    "\n",
    "s = \"GolzariOskouei\"\n",
    "\n",
    "print(s[0])      #G\n",
    "\n",
    "print(s[8])      #s\n",
    "\n",
    "print(s[-1])     #i\n",
    "\n",
    "print(s[-2])     #e\n",
    "\n",
    "print(s[0:4])    #Golz\n",
    "\n",
    "print(s[:4])     #Golz\n",
    "\n",
    "print(s[-9:-5])  #riOs\n",
    "\n",
    "print(s[4:])     #ariOskouei\n",
    "\n",
    "print(s[4:9])    #ariOs\n",
    "\n",
    "print(s[-5:])    #kouei      "
   ]
  },
  {
   "cell_type": "code",
   "execution_count": null,
   "metadata": {},
   "outputs": [],
   "source": [
    "l = [\"apples\", \"grapes\", \"oranges\"]  \n",
    "print(type(l))     # list"
   ]
  },
  {
   "cell_type": "code",
   "execution_count": null,
   "metadata": {},
   "outputs": [],
   "source": [
    "t = (\"apple\", \"banana\", \"cherry\") \n",
    "print(type(t))     # tupl"
   ]
  },
  {
   "cell_type": "code",
   "execution_count": null,
   "metadata": {},
   "outputs": [],
   "source": [
    "d = {'id': '123', 'name': 'amin'}  \n",
    "print(type(d))    # dict"
   ]
  },
  {
   "cell_type": "code",
   "execution_count": null,
   "metadata": {},
   "outputs": [],
   "source": [
    "s = {'apple', 'banana', 'cherry'}    \n",
    "print(type(s))    # set"
   ]
  },
  {
   "cell_type": "code",
   "execution_count": null,
   "metadata": {},
   "outputs": [],
   "source": [
    "#Receiving input from Console \n",
    "a = int(input('Enter a:'))\n",
    "b = int(input('Enter b:'))\n",
    "c = a + b\n",
    "print(c)"
   ]
  },
  {
   "cell_type": "markdown",
   "metadata": {},
   "source": [
    "<div class=\"alert alert-block alert-info\">\n",
    "<div style=\"direction:rtl;text-align:right;font-family:B Lotus, B Nazanin, Tahoma\"> دانشگاه شهید مدنی آذربایجان<br> برنامه نویسی مقدماتی با پایتون<br>امین گلزاری اسکوئی <br>1400-1401<br>\n",
    "</div>\n",
    "<a href=\"https://github.com/Amin-Golzari-Oskouei/Python-Programming-Course-Basic-2021\"> Codes and Projects (click here) </a>\n",
    "<a href=\"https://drive.google.com/drive/folders/1ZsQjBJJ4UAAp9zrGxm3c4qrhnvGBUYHw\">slides and videos (click here)</a>\n",
    "</div>"
   ]
  }
 ],
 "metadata": {
  "kernelspec": {
   "display_name": "Python 3",
   "language": "python",
   "name": "python3"
  },
  "language_info": {
   "codemirror_mode": {
    "name": "ipython",
    "version": 3
   },
   "file_extension": ".py",
   "mimetype": "text/x-python",
   "name": "python",
   "nbconvert_exporter": "python",
   "pygments_lexer": "ipython3",
   "version": "3.8.8"
  }
 },
 "nbformat": 4,
 "nbformat_minor": 2
}
