{
 "cells": [
  {
   "cell_type": "code",
   "execution_count": null,
   "metadata": {},
   "outputs": [],
   "source": [
    "# print(a)               :NameError\n",
    "\n",
    "s= 'ali'\n",
    "# print(s + 2)           : TypeError\n",
    "\n",
    "# s.append('reza')       :AttributeError\n",
    "\n",
    "lst = [15, 20, 17]\n",
    "# print(lst[3])          : IndexError\n",
    "\n",
    "# print(lst + 4)         : TypeError\n",
    "# lst.add(5)             : AttributeError\n",
    "\n",
    "d = {'a' : 5 , 'b' : 6}\n",
    "# print(d['f'])           : KeyError\n",
    "\n",
    "# x = 8/0                 : ZeroDivisionError"
   ]
  },
  {
   "cell_type": "code",
   "execution_count": null,
   "metadata": {},
   "outputs": [],
   "source": [
    "try:\n",
    "    print(k)\n",
    "except NameError: \n",
    "    print('error')          # error"
   ]
  },
  {
   "cell_type": "code",
   "execution_count": null,
   "metadata": {},
   "outputs": [],
   "source": [
    "try:\n",
    "    print(k)\n",
    "except NameError as ne: \n",
    "    print(ne)              # name 'k' is not defined"
   ]
  },
  {
   "cell_type": "code",
   "execution_count": null,
   "metadata": {},
   "outputs": [],
   "source": [
    "s = 'ali'\n",
    "\n",
    "try:\n",
    "     print(s + 2)\n",
    "except TypeError as te:    \n",
    "    print(te)    # can only concatenate str (not \"int\") to str"
   ]
  },
  {
   "cell_type": "code",
   "execution_count": null,
   "metadata": {},
   "outputs": [],
   "source": [
    "try:\n",
    "    x = 8 / 2\n",
    "except ZeroDivisionError as ze:\n",
    "    print(ze)            \n",
    "else:\n",
    "    print(x)      # 4"
   ]
  },
  {
   "cell_type": "code",
   "execution_count": null,
   "metadata": {},
   "outputs": [],
   "source": [
    "def divide(x, y):\n",
    "    try:\n",
    "        r = x / y\n",
    "    except  ZeroDivisionError:\n",
    "        print('error')\n",
    "    else:\n",
    "        print(r)\n",
    "    finally:\n",
    "        print('by')\n",
    "\n",
    "divide(2, 1)       # 2.0     by   \n",
    "divide(4, 0)       # error   by"
   ]
  },
  {
   "cell_type": "code",
   "execution_count": null,
   "metadata": {},
   "outputs": [],
   "source": [
    "s = '23'\n",
    "try: \n",
    "   i = int(s)\n",
    "except ValueError:\n",
    "    i= -1\n",
    "print(i)               # 23 "
   ]
  },
  {
   "cell_type": "code",
   "execution_count": null,
   "metadata": {},
   "outputs": [],
   "source": [
    "s = 'a'\n",
    "try: \n",
    "   i = int(s)\n",
    "except ValueError:\n",
    "    i= -1\n",
    "print(i)            # -1"
   ]
  },
  {
   "cell_type": "code",
   "execution_count": null,
   "metadata": {},
   "outputs": [],
   "source": [
    "def f(n):\n",
    "    try:\n",
    "        if n == 13:\n",
    "            raise ValueError('unlucky number')\n",
    "        return 20 / n\n",
    "    except (ZeroDivisionError , TypeError):\n",
    "        return 'Enter s number other than 0'\n",
    "\n",
    "print(f(5))       # 4\n",
    "\n",
    "print(f(0))       # Enter s number other than 0    \n",
    "\n",
    "print(f('a'))     # Enter s number other than 0        \n",
    "\n",
    "#print(f(13))      # unlucky number"
   ]
  },
  {
   "cell_type": "code",
   "execution_count": null,
   "metadata": {},
   "outputs": [],
   "source": [
    "# Nested try_except Blocks\n",
    "\n",
    "try:\n",
    "    print(5 / 0)\n",
    "    try:\n",
    "        print(n)\n",
    "    except NameError  as ne:\n",
    "        print(ne)\n",
    "except ZeroDivisionError as ze:    \n",
    "   print(ze)                         # division by zero"
   ]
  },
  {
   "cell_type": "code",
   "execution_count": null,
   "metadata": {},
   "outputs": [],
   "source": [
    "try:\n",
    "    print(5 / 2)\n",
    "    try:\n",
    "        print(n)\n",
    "    except NameError  as ne:\n",
    "        print(ne)\n",
    "except ZeroDivisionError as ze:    \n",
    "   print(ze)\n",
    "'''\n",
    "2.5\n",
    "name 'n' is not defined\n",
    "'''"
   ]
  },
  {
   "cell_type": "code",
   "execution_count": null,
   "metadata": {},
   "outputs": [],
   "source": [
    "try :\n",
    "    n = int(input('enter:'))\n",
    "    assert n % 2 == 0\n",
    "except:\n",
    "    print('Not even')    \n",
    "else:\n",
    "    print( n * 2)     "
   ]
  },
  {
   "cell_type": "markdown",
   "metadata": {},
   "source": [
    "<div class=\"alert alert-block alert-info\">\n",
    "<div style=\"direction:rtl;text-align:right;font-family:B Lotus, B Nazanin, Tahoma\"> دانشگاه شهید مدنی آذربایجان<br> برنامه نویسی مقدماتی با پایتون<br>امین گلزاری اسکوئی <br>1400-1401<br>\n",
    "</div>\n",
    "<a href=\"https://github.com/Amin-Golzari-Oskouei/Python-Programming-Course-Basic-2021\"> Codes and Projects (click here) </a>\n",
    "<a href=\"https://drive.google.com/drive/folders/1ZsQjBJJ4UAAp9zrGxm3c4qrhnvGBUYHw\">slides and videos (click here)</a>\n",
    "</div>"
   ]
  }
 ],
 "metadata": {
  "kernelspec": {
   "display_name": "Python 3",
   "language": "python",
   "name": "python3"
  },
  "language_info": {
   "codemirror_mode": {
    "name": "ipython",
    "version": 3
   },
   "file_extension": ".py",
   "mimetype": "text/x-python",
   "name": "python",
   "nbconvert_exporter": "python",
   "pygments_lexer": "ipython3",
   "version": "3.8.8"
  }
 },
 "nbformat": 4,
 "nbformat_minor": 4
}
