{
 "cells": [
  {
   "cell_type": "code",
   "execution_count": null,
   "metadata": {},
   "outputs": [],
   "source": [
    "# lambda"
   ]
  },
  {
   "cell_type": "code",
   "execution_count": null,
   "metadata": {},
   "outputs": [],
   "source": [
    "def f(n):\n",
    "    return n*2\n",
    "print(f(3))\n",
    "\n",
    "g = lambda n : n * 2\n",
    "print(g(3))"
   ]
  },
  {
   "cell_type": "code",
   "execution_count": null,
   "metadata": {},
   "outputs": [],
   "source": [
    "add = lambda x, y :x + y \n",
    "print(add(2, 3))   # 5"
   ]
  },
  {
   "cell_type": "code",
   "execution_count": null,
   "metadata": {},
   "outputs": [],
   "source": [
    "add = lambda x, y : (x + y , x - y)\n",
    "print(add(2, 3))   # (5 , -1)"
   ]
  },
  {
   "cell_type": "code",
   "execution_count": null,
   "metadata": {},
   "outputs": [],
   "source": [
    "m = lambda : print('hello')\n",
    "m()   # hello"
   ]
  },
  {
   "cell_type": "code",
   "execution_count": null,
   "metadata": {},
   "outputs": [],
   "source": [
    "d = {'a':3, 'b':7, 'c':5}\n",
    "print(d[max(d.keys() , key = (lambda k: d[k]))])  # 7"
   ]
  },
  {
   "cell_type": "code",
   "execution_count": null,
   "metadata": {},
   "outputs": [],
   "source": [
    "# map \n",
    "\n",
    "lst = ['ali', 'reza']\n",
    "u = []\n",
    "for i in lst:\n",
    "    x = i.upper()\n",
    "    u.append(x)\n",
    "print(u)            # ['ALI', 'REZA']\n",
    "\n",
    "print(list(map(str.upper, lst)))     # ['ALI', 'REZA']"
   ]
  },
  {
   "cell_type": "code",
   "execution_count": null,
   "metadata": {},
   "outputs": [],
   "source": [
    "name  = ['ali', 'reza']\n",
    "score = [13,18]\n",
    "\n",
    "print(list(zip(name,score)))   # [('ali', 13), ('reza', 18)]\n",
    "\n",
    "print(list(map(lambda x, y : (x,y) , name , score))) # [('ali', 13), ('reza', 18)]"
   ]
  },
  {
   "cell_type": "code",
   "execution_count": null,
   "metadata": {},
   "outputs": [],
   "source": [
    "lst = ['a' , 'A']\n",
    "\n",
    "x = []\n",
    "for i in lst:\n",
    "    x.append(ord(i))\n",
    "print(x)                     # [97, 65]\n",
    "\n",
    "print(list(map(ord, lst)))   # [97, 65]"
   ]
  },
  {
   "cell_type": "code",
   "execution_count": null,
   "metadata": {},
   "outputs": [],
   "source": [
    "scores = [12, 8 , 19, 15 , 7]\n",
    "print(list(map(lambda x : x>9 , scores))) \n",
    "# [True, False, True, True, False]"
   ]
  },
  {
   "cell_type": "code",
   "execution_count": null,
   "metadata": {},
   "outputs": [],
   "source": [
    "a = [3, 2, 1]\n",
    "b = [6, 4, 7]\n",
    "\n",
    "print(list(map(lambda x, y :x+y, a, b)))   # [9, 6, 8]"
   ]
  },
  {
   "cell_type": "code",
   "execution_count": null,
   "metadata": {},
   "outputs": [],
   "source": [
    "def f(x):\n",
    "    return x + 5\n",
    "\n",
    "def g(y):\n",
    "    return y * 2\n",
    "\n",
    "funcs = [f, g]\n",
    "\n",
    "lst = [1, 2, 3]\n",
    "\n",
    "for i in lst:\n",
    "    print(list(map(lambda a : a(i) , funcs)))\n",
    "\n",
    "'''\n",
    "[6, 2]\n",
    "[7, 4]\n",
    "[8, 6]\n",
    "'''"
   ]
  },
  {
   "cell_type": "code",
   "execution_count": null,
   "metadata": {},
   "outputs": [],
   "source": [
    "# filter\n",
    "\n",
    "scores = [12, 8 , 19, 15 , 7]\n",
    "print(list(filter(lambda x : x>9 , scores)))   # [12, 19, 15]\n",
    "\n",
    "lst = ['radar', 'ali', 'madam' , 'php']\n",
    "palindrome = lambda x : (x == ''.join(reversed(x)))\n",
    "print(list(filter(palindrome , lst)))  # ['radar', 'madam', 'php']"
   ]
  },
  {
   "cell_type": "code",
   "execution_count": null,
   "metadata": {},
   "outputs": [],
   "source": [
    "lis = [2, 7, '', 9, {}, 8, [], 12]\n",
    "print(list(filter(None,lis)))       # [2, 7, 9, 8, 12]"
   ]
  },
  {
   "cell_type": "code",
   "execution_count": null,
   "metadata": {},
   "outputs": [],
   "source": [
    "# reduce\n",
    "from functools import reduce\n",
    "\n",
    "lis = [4, 8, 3, 5]\n",
    "\n",
    "# add = lambda a,b : a+b\n",
    "\n",
    "def add(x, y):\n",
    "    return x + y\n",
    "\n",
    "print(reduce(add, lis))  # 20   : (((4+8)+3)+5)\n",
    "\n",
    "'''\n",
    "def my_reduce(func, seq):\n",
    "    r = seq[0]\n",
    "    for i in seq[1:]:\n",
    "        r = func(r,i)\n",
    "    return r\n",
    "print(my_reduce(add, lis))   # 20   \n",
    "'''"
   ]
  },
  {
   "cell_type": "code",
   "execution_count": null,
   "metadata": {},
   "outputs": [],
   "source": [
    "print('----- sorted --------')\n",
    "\n",
    "lst = [5, 2, 3, 1, 4]\n",
    "print(sorted(lst))           # [1, 2, 3, 4, 5]"
   ]
  },
  {
   "cell_type": "code",
   "execution_count": null,
   "metadata": {},
   "outputs": [],
   "source": [
    " students = [\n",
    "            {'id' : 1 ,'name' : 'taha' , 'score': 19},\n",
    "            {'id' : 6 ,'name' : 'sara' , 'score': 8},\n",
    "            {'id' : 4 ,'name' : 'omid' , 'score': 15},\n",
    "            {'id' : 3 ,'name' : 'mahsa', 'score': 19}\n",
    "          ]\n",
    "\n",
    "print(sorted(students , key = lambda x : x['score']))\n",
    "'''\n",
    "[{'id': 6, 'name': 'sara', 'score': 8}, \n",
    "{'id': 4, 'name': 'omid' , 'score': 15}, \n",
    "{'id': 1, 'name': 'taha' , 'score': 19}, \n",
    "{'id': 3, 'name': 'mahsa', 'score': 19}]\n",
    "'''"
   ]
  },
  {
   "cell_type": "code",
   "execution_count": null,
   "metadata": {},
   "outputs": [],
   "source": [
    "student = [\n",
    "            ( 1 , 'taha' , 19),\n",
    "            ( 6 , 'sara' , 8),\n",
    "            ( 4 , 'omid' , 15),\n",
    "            ( 3 , 'mahsa', 19)\n",
    "          ]\n",
    "\n",
    "from operator import itemgetter\n",
    "\n",
    "print(sorted(student , key = itemgetter(2)))\n",
    "'''\n",
    "[(6, 'sara', 8), \n",
    "(4, 'omid', 15), \n",
    "(1, 'taha', 19), \n",
    "(3, 'mahsa', 19)]\n",
    "'''\n",
    "print(sorted(student , key = itemgetter(2) , reverse = True))\n",
    "'''\n",
    "[(1, 'taha', 19), \n",
    "(3, 'mahsa', 19), \n",
    "(4, 'omid', 15), \n",
    "(6, 'sara', 8)]\n",
    "'''\n",
    "print(sorted(student , key = itemgetter(2, 1) ))\n",
    "'''\n",
    "[(6, 'sara', 8), \n",
    "(4, 'omid', 15),\n",
    "(3, 'mahsa', 19), \n",
    "(1, 'taha', 19)]\n",
    "'''"
   ]
  },
  {
   "cell_type": "code",
   "execution_count": null,
   "metadata": {},
   "outputs": [],
   "source": [
    "d = {'ali':13, 'sara':17, 'taha':15}\n",
    "print(sorted(d.items() , key = lambda x : x[1]))\n",
    "# [('ali', 13), ('taha', 15), ('sara', 17)]"
   ]
  },
  {
   "cell_type": "markdown",
   "metadata": {},
   "source": [
    "<div class=\"alert alert-block alert-info\">\n",
    "<div style=\"direction:rtl;text-align:right;font-family:B Lotus, B Nazanin, Tahoma\"> دانشگاه شهید مدنی آذربایجان<br> برنامه نویسی مقدماتی با پایتون<br>امین گلزاری اسکوئی <br>1400-1401<br>\n",
    "</div>\n",
    "<a href=\"https://github.com/Amin-Golzari-Oskouei/Python-Programming-Course-Basic-2021\"> Codes and Projects (click here) </a>\n",
    "<a href=\"https://drive.google.com/drive/folders/1ZsQjBJJ4UAAp9zrGxm3c4qrhnvGBUYHw\">slides and videos (click here)</a>\n",
    "</div>"
   ]
  }
 ],
 "metadata": {
  "kernelspec": {
   "display_name": "Python 3",
   "language": "python",
   "name": "python3"
  },
  "language_info": {
   "codemirror_mode": {
    "name": "ipython",
    "version": 3
   },
   "file_extension": ".py",
   "mimetype": "text/x-python",
   "name": "python",
   "nbconvert_exporter": "python",
   "pygments_lexer": "ipython3",
   "version": "3.8.8"
  }
 },
 "nbformat": 4,
 "nbformat_minor": 4
}
