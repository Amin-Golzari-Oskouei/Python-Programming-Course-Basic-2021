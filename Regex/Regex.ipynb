{
 "cells": [
  {
   "cell_type": "code",
   "execution_count": null,
   "metadata": {},
   "outputs": [],
   "source": [
    "# Regular expressions\n",
    "\n",
    "import re\n",
    "\n",
    "txt = 'Python is a programming language.'\n",
    "\n",
    "m = re.search('programming', txt)\n",
    "print(m)  # <re.Match object; span=(12, 23), match='programming'>\n",
    "\n",
    "m = re.search('are', txt)\n",
    "print(m) # None"
   ]
  },
  {
   "cell_type": "code",
   "execution_count": null,
   "metadata": {},
   "outputs": [],
   "source": [
    "m = re.search('^is', txt)\n",
    "print(m) # None\n",
    "\n",
    "m = re.search('^Python', txt)\n",
    "if (m):\n",
    "    print('yes')\n",
    "else:\n",
    "    print('no')    "
   ]
  },
  {
   "cell_type": "code",
   "execution_count": null,
   "metadata": {},
   "outputs": [],
   "source": [
    "m = re.search('programming$', txt)\n",
    "if (m):\n",
    "    print('yes')\n",
    "else:\n",
    "    print('no')  \n",
    "    \n",
    "m = re.search('language.$', txt)\n",
    "if (m):\n",
    "    print('yes')\n",
    "else:\n",
    "    print('no') "
   ]
  },
  {
   "cell_type": "code",
   "execution_count": null,
   "metadata": {},
   "outputs": [],
   "source": [
    "x = 'phone number 091212123344 and another 02122334455 number.'\n",
    "\n",
    "m = re.search('number \\d+', x)\n",
    "print(m)\n",
    "# <re.Match object; span=(6, 25), match='number 091212123344'>\n",
    "\n",
    "print(m.group(0)) # number 091212123344\n",
    "#print(m.group(1))    # Error\n",
    "\n",
    "\n",
    "m = re.search('number (\\d+)', x)\n",
    "print(m.group(0))    # number 091212123344\n",
    "print(m.group(1))    #  091212123344\n",
    "\n",
    "\n",
    "m = re.search('(\\w+) (\\d+)', x)\n",
    "print(m.group(0))    # number 091212123344\n",
    "print(m.group(1))    #  number\n",
    "print(m.group(2))    #  091212123344\n",
    "\n",
    "\n",
    "print(re.findall('\\d+', x))      # ['091212123344', '02122334455']\n",
    "print(re.findall('\\w+ \\d+', x))  # ['number 091212123344', 'another 02122334455']\n",
    "print(re.findall('\\d+ \\w+', x))  # ['091212123344 and', '02122334455 number']\n",
    "print(re.findall('[0-9]+', x))   # ['091212123344', '02122334455']\n",
    "print(re.findall('[0-2]+', x))   # ['0', '121212', '02122']"
   ]
  },
  {
   "cell_type": "code",
   "execution_count": null,
   "metadata": {},
   "outputs": [],
   "source": [
    "name = 'Farshid Shirafkan'\n",
    "print(re.findall('z', name))        # []\n",
    "print(re.findall('f', name))        # ['f']\n",
    "\n",
    "k = re.findall('[a-f]', name)\n",
    "print(k)                            # ['a', 'd', 'a', 'f', 'a']\n",
    "\n",
    "print(re.findall('\\s+', name))     # [' ']\n",
    "print(re.findall('\\S+', name))     # ['Farshid', 'Shirafkan']\n",
    "print(re.findall('r[^ ]*', name))  # ['rshid', 'rafkan']\n",
    "print(re.findall('r[^i]*', name))  # ['rsh', 'rafkan']"
   ]
  },
  {
   "cell_type": "code",
   "execution_count": null,
   "metadata": {},
   "outputs": [],
   "source": [
    "e = 'From ali@gmail.com to sara@yahoo.com'\n",
    "words = e.split()\n",
    "print(words)      # ['From', 'ali@gmail.com', 'to', 'sara@yahoo.com']\n",
    "print(words[1])   # ali@gmail.com\n",
    "print(words[3])   # sara@yahoo.com\n",
    "print(re.findall('\\S+@\\S+' , e))   # ['ali@gmail.com', 'sara@yahoo.com']\n",
    "print(re.split('\\s', e))     # ['From', 'ali@gmail.com', 'to', 'sara@yahoo.com']\n",
    "print(re.split('\\s', e, 1))  # ['From', 'ali@gmail.com to sara@yahoo.com']"
   ]
  },
  {
   "cell_type": "code",
   "execution_count": null,
   "metadata": {},
   "outputs": [],
   "source": [
    "txt = 'Python is a programming language.'\n",
    "\n",
    "print(re.sub('\\s', '_', txt)) # Python_is_a_programming_language.\n",
    "print(re.sub('\\S', 'a', txt)) # aaaaaa aa a aaaaaaaaaaa aaaaaaaaa\n",
    "print(re.sub('\\s', '_', txt, 2)) # Python_is_a programming language."
   ]
  },
  {
   "cell_type": "code",
   "execution_count": null,
   "metadata": {},
   "outputs": [],
   "source": [
    "phone = '0912-197-12345'\n",
    "print(re.sub('\\d', '#', phone))  # ####-###-#####\n",
    "print(re.sub('\\D', '#', phone))  # 0912#197#12345  "
   ]
  },
  {
   "cell_type": "code",
   "execution_count": null,
   "metadata": {},
   "outputs": [],
   "source": [
    "p = '  farsh id   '\n",
    "r = re.sub('^\\s+', '', p)\n",
    "print(r)  #farsh id   \n",
    "\n",
    "r2 = re.sub('\\s+$', '', p)\n",
    "print(r2)  #   farsh id"
   ]
  },
  {
   "cell_type": "code",
   "execution_count": null,
   "metadata": {},
   "outputs": [],
   "source": [
    "s ='ABCDEFCGH' \n",
    "r = re.subn('CD', 'X', s)\n",
    "print(r)                     # ('ABXEFCGH', 1)\n",
    "\n",
    "s ='ABCDEFCGH' \n",
    "u = re.subn('C', 'X', s)\n",
    "print(u)                    # ('ABXDEFXGH', 2)"
   ]
  },
  {
   "cell_type": "code",
   "execution_count": null,
   "metadata": {},
   "outputs": [],
   "source": [
    "s ='ABCDEFCGH' \n",
    "f = re.search('CDE', s)\n",
    "print(f)        # <re.Match object; span=(2, 5), match='CD'>\n",
    "a = f.start()   # 2\n",
    "b = f.end()     # 5\n",
    "\n",
    "k = s[ :a] + s[b: ]\n",
    "print(k)               # ABFCGH"
   ]
  },
  {
   "cell_type": "code",
   "execution_count": null,
   "metadata": {},
   "outputs": [],
   "source": [
    "text = \"He was carefully disguised but captured quickly by police.\"\n",
    "t = re.findall(r\"\\w+ly\", text)\n",
    "print(t)                       # ['carefully', 'quickly']  \n",
    "\n",
    "fi = re.finditer(r\"\\w+ly\", text)\n",
    "for m in fi:\n",
    "     print(m.start(), m.end(), m.group(0))\n",
    "\n",
    "'''\n",
    "7 16 carefully\n",
    "40 47 quickly\n",
    "'''"
   ]
  },
  {
   "cell_type": "code",
   "execution_count": null,
   "metadata": {},
   "outputs": [],
   "source": [
    "from typing import NamedTuple\n",
    "\n",
    "class Token(NamedTuple):\n",
    "    type: str\n",
    "    value: str\n",
    "    line: int\n",
    "    column: int\n",
    "\n",
    "def tokenize(code):\n",
    "    keywords = {'IF', 'THEN', 'ENDIF'}\n",
    "    token_specification = [\n",
    "        ('NUMBER',   r'\\d+(\\.\\d*)?'),  # Integer or decimal number\n",
    "        ('ASSIGN',   r':='),           # Assignment operator\n",
    "        ('END',      r';'),            # Statement terminator\n",
    "        ('ID',       r'[A-Za-z]+'),    # Identifiers\n",
    "        ('OP',       r'[+\\-*/]'),      # Arithmetic operators\n",
    "        ('NEWLINE',  r'\\n'),           # Line endings\n",
    "        ('SKIP',     r'[ \\t]+'),       # Skip over spaces and tabs\n",
    "        ('MISMATCH', r'.'),            # Any other character\n",
    "    ]\n",
    "    tok_regex = '|'.join('(?P<%s>%s)' % pair for pair in token_specification)\n",
    "    line_num = 1\n",
    "    line_start = 0\n",
    "    for mo in re.finditer(tok_regex, code):\n",
    "        kind = mo.lastgroup\n",
    "        value = mo.group()\n",
    "        column = mo.start() - line_start\n",
    "        if kind == 'NUMBER':\n",
    "            value = float(value) if '.' in value else int(value)\n",
    "        elif kind == 'ID' and value in keywords:\n",
    "            kind = value\n",
    "        elif kind == 'NEWLINE':\n",
    "            line_start = mo.end()\n",
    "            line_num += 1\n",
    "            continue\n",
    "        elif kind == 'SKIP':\n",
    "            continue\n",
    "        elif kind == 'MISMATCH':\n",
    "            raise RuntimeError(f'{value!r} unexpected on line {line_num}')\n",
    "        yield Token(kind, value, line_num, column)\n",
    "\n",
    "statements = '''\n",
    "    IF quantity THEN\n",
    "        total := total + price * quantity;\n",
    "        tax := price * 0.05;\n",
    "    ENDIF;\n",
    "'''\n",
    "\n",
    "for token in tokenize(statements):\n",
    "    print(token)"
   ]
  },
  {
   "cell_type": "markdown",
   "metadata": {},
   "source": [
    "<div class=\"alert alert-block alert-info\">\n",
    "<div style=\"direction:rtl;text-align:right;font-family:B Lotus, B Nazanin, Tahoma\"> دانشگاه شهید مدنی آذربایجان<br> برنامه نویسی مقدماتی با پایتون<br>امین گلزاری اسکوئی <br>1400-1401<br>\n",
    "</div>\n",
    "<a href=\"https://github.com/Amin-Golzari-Oskouei/Python-Programming-Course-Basic-2021\"> Codes and Projects (click here) </a>\n",
    "<a href=\"https://drive.google.com/drive/folders/1ZsQjBJJ4UAAp9zrGxm3c4qrhnvGBUYHw\">slides and videos (click here)</a>\n",
    "</div>"
   ]
  }
 ],
 "metadata": {
  "kernelspec": {
   "display_name": "Python 3",
   "language": "python",
   "name": "python3"
  },
  "language_info": {
   "codemirror_mode": {
    "name": "ipython",
    "version": 3
   },
   "file_extension": ".py",
   "mimetype": "text/x-python",
   "name": "python",
   "nbconvert_exporter": "python",
   "pygments_lexer": "ipython3",
   "version": "3.8.8"
  }
 },
 "nbformat": 4,
 "nbformat_minor": 4
}
