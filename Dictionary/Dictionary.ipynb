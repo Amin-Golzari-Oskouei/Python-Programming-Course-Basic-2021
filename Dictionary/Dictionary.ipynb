{
 "cells": [
  {
   "cell_type": "code",
   "execution_count": null,
   "metadata": {},
   "outputs": [],
   "source": [
    "\"\"\"\n",
    "   dictionary\n",
    "\"\"\""
   ]
  },
  {
   "cell_type": "code",
   "execution_count": null,
   "metadata": {},
   "outputs": [],
   "source": [
    "d = {\n",
    "     'brand' : 'cherry' , \n",
    "     'model' : 'arizo5' ,\n",
    "     'color' : 'white'\n",
    "     }\n",
    "print(type(d))    # <class dict>\n",
    "print(len(d))     # 3"
   ]
  },
  {
   "cell_type": "code",
   "execution_count": null,
   "metadata": {},
   "outputs": [],
   "source": [
    "d1 = dict( brand = 'cherry' , model='arizo5' , color = 'white')"
   ]
  },
  {
   "cell_type": "code",
   "execution_count": null,
   "metadata": {},
   "outputs": [],
   "source": [
    "d['year'] = '2010'"
   ]
  },
  {
   "cell_type": "code",
   "execution_count": null,
   "metadata": {},
   "outputs": [],
   "source": [
    "print( d['model'])  # arizo5"
   ]
  },
  {
   "cell_type": "code",
   "execution_count": null,
   "metadata": {},
   "outputs": [],
   "source": [
    "x = d.get('model')\n",
    "print(x)           # arizo5"
   ]
  },
  {
   "cell_type": "code",
   "execution_count": null,
   "metadata": {},
   "outputs": [],
   "source": [
    "x = d.get('cylinder')\n",
    "print(x)           # None"
   ]
  },
  {
   "cell_type": "code",
   "execution_count": null,
   "metadata": {},
   "outputs": [],
   "source": [
    "x = d.get('cylinder',-1)\n",
    "print(x)           # -1"
   ]
  },
  {
   "cell_type": "code",
   "execution_count": null,
   "metadata": {},
   "outputs": [],
   "source": [
    "print(list(d.keys()))    # ['brand', 'model', 'color', 'year']"
   ]
  },
  {
   "cell_type": "code",
   "execution_count": null,
   "metadata": {},
   "outputs": [],
   "source": [
    "print(list(d.values()))  # ['cherry', 'arizo5', 'white', '2010']"
   ]
  },
  {
   "cell_type": "code",
   "execution_count": null,
   "metadata": {},
   "outputs": [],
   "source": [
    "print(list(d.items()))  \n",
    "#[('brand', 'cherry'), ('model', 'arizo5'), ('color', 'white'), ('year', '2010')]"
   ]
  },
  {
   "cell_type": "code",
   "execution_count": null,
   "metadata": {},
   "outputs": [],
   "source": [
    "for k,v in d.items():\n",
    "    print(k,':',v)"
   ]
  },
  {
   "cell_type": "code",
   "execution_count": null,
   "metadata": {},
   "outputs": [],
   "source": [
    "d.pop('model')    \n",
    "print(d)     # {'brand': 'cherry', 'color': 'white', 'year': '2010'}"
   ]
  },
  {
   "cell_type": "code",
   "execution_count": null,
   "metadata": {},
   "outputs": [],
   "source": [
    "d.popitem()\n",
    "print(d)     # {'brand': 'cherry', 'color': 'white'}"
   ]
  },
  {
   "cell_type": "code",
   "execution_count": null,
   "metadata": {},
   "outputs": [],
   "source": [
    "d.popitem()\n",
    "print(d)     # {'brand': 'cherry'}"
   ]
  },
  {
   "cell_type": "code",
   "execution_count": null,
   "metadata": {},
   "outputs": [],
   "source": [
    "d.clear()\n",
    "print(d)    # {}"
   ]
  },
  {
   "cell_type": "code",
   "execution_count": null,
   "metadata": {},
   "outputs": [],
   "source": [
    "del d"
   ]
  },
  {
   "cell_type": "code",
   "execution_count": null,
   "metadata": {},
   "outputs": [],
   "source": [
    "a = ['x', 'y', 'x', 'z', 'y', 'x']\n",
    "d = {}\n",
    "for i in a :\n",
    "    if i not in d:\n",
    "        d[i] = 1\n",
    "    else:\n",
    "        d[i] += 1         \n",
    "print(d)           # {'x': 3, 'y': 2, 'z': 1}"
   ]
  },
  {
   "cell_type": "code",
   "execution_count": null,
   "metadata": {},
   "outputs": [],
   "source": [
    "# or\n",
    "d1 = {}\n",
    "for i in a:\n",
    "    d1[i] = d1.get(i,0) +1\n",
    "    \n",
    "print(d1)  "
   ]
  },
  {
   "cell_type": "code",
   "execution_count": null,
   "metadata": {},
   "outputs": [],
   "source": [
    "d2 = d.copy()"
   ]
  },
  {
   "cell_type": "code",
   "execution_count": null,
   "metadata": {},
   "outputs": [],
   "source": [
    "s = 'abfabdcaa'\n",
    "d = {}\n",
    "for i in s:\n",
    "    d[i] = d.get(i,0) + 1\n",
    "    \n",
    "print(d)  #{'a': 4, 'b': 2, 'f': 1, 'd': 1, 'c': 1}"
   ]
  },
  {
   "cell_type": "code",
   "execution_count": null,
   "metadata": {},
   "outputs": [],
   "source": [
    "line ='a dictionary is a datastructure.'\n",
    "d = {}\n",
    "s = line.split()\n",
    "print(s)  # ['a', 'dictionary', 'is', 'a', 'datastructure.']\n",
    "for i in s:\n",
    "    d[i] = d.get(i,0) + 1\n",
    "\n",
    "print(d)\n",
    "# {'a': 2, 'dictionary': 1, 'is': 1, 'datastructure.': 1}"
   ]
  },
  {
   "cell_type": "code",
   "execution_count": null,
   "metadata": {},
   "outputs": [],
   "source": [
    "d = {'a': 4, 'b': 2, 'f': 1, 'd': 1, 'c': 1}\n",
    "s = 0\n",
    "for i in d:\n",
    "    s += d[i]\n",
    "print(s)       # 9"
   ]
  },
  {
   "cell_type": "code",
   "execution_count": null,
   "metadata": {},
   "outputs": [],
   "source": [
    "# or\n",
    "print(sum(d.values()))  # 9"
   ]
  },
  {
   "cell_type": "code",
   "execution_count": null,
   "metadata": {},
   "outputs": [],
   "source": [
    "print('# sort #')\n",
    "d = {'a': 4, 'b': 2, 'f': 1, 'd': 1, 'c': 1}\n",
    "import operator\n",
    "k= operator.itemgetter(1)\n",
    "print(sorted(d.items(),key = k))\n",
    "# [('f', 1), ('d', 1), ('c', 1), ('b', 2), ('a', 4)]\n",
    "\n",
    "k= operator.itemgetter(0)\n",
    "print(sorted(d.items(),key = k))\n",
    "# [('a', 4), ('b', 2), ('c', 1), ('d', 1), ('f', 1)]"
   ]
  },
  {
   "cell_type": "code",
   "execution_count": null,
   "metadata": {},
   "outputs": [],
   "source": [
    "num ={\n",
    "      'ali' : [12,13,8],\n",
    "      'sara': [15,7,14],\n",
    "      'taha': [5,18,13]     \n",
    "      }\n",
    "\n",
    "d = {k : sorted(v)  for k,v in num.items()}\n",
    "\n",
    "print(d)\n",
    "\n",
    "# {'ali': [8, 12, 13], 'sara': [7, 14, 15], 'taha': [5, 13, 18]}"
   ]
  },
  {
   "cell_type": "code",
   "execution_count": null,
   "metadata": {},
   "outputs": [],
   "source": [
    "# combine\n",
    "\n",
    "d1 = {'x' : 3 , 'y': 2 , 'z':1}\n",
    "d2 = {'w' : 8 , 't': 7 }\n",
    "\n",
    "d = {}\n",
    "d = d1.copy()\n",
    "d.update(d2)\n",
    "print(d)\n",
    "# {'x': 3, 'y': 2, 'z': 1, 'w': 8, 't': 7}"
   ]
  },
  {
   "cell_type": "code",
   "execution_count": null,
   "metadata": {},
   "outputs": [],
   "source": [
    "# or\n",
    "d = {}\n",
    "for i in (d1,d2):\n",
    "    d.update(i)\n",
    "print(d) "
   ]
  },
  {
   "cell_type": "code",
   "execution_count": null,
   "metadata": {},
   "outputs": [],
   "source": [
    "# or\n",
    "d = {**d1 , **d2} \n",
    "print(d)"
   ]
  },
  {
   "cell_type": "code",
   "execution_count": null,
   "metadata": {},
   "outputs": [],
   "source": [
    "# Map two lists into a dict\n",
    "k = ['red' , 'green'] \n",
    "v = ['#FF0000' , '#008000']\n",
    "\n",
    "z = zip(k,v)\n",
    "d = dict(z)     \n",
    "\n",
    "print(d)   # {'red': '#FF0000', 'green': '#008000'}"
   ]
  },
  {
   "cell_type": "code",
   "execution_count": null,
   "metadata": {},
   "outputs": [],
   "source": [
    "s = 'alireza'\n",
    "x = ['a', 'r']\n",
    "d = {}\n",
    "\n",
    "for i in s:\n",
    "    if i in x:\n",
    "        d.setdefault(i,0)\n",
    "        d[i] +=1\n",
    "\n",
    "print(d)         # {'a': 2, 'r': 1}"
   ]
  },
  {
   "cell_type": "code",
   "execution_count": null,
   "metadata": {},
   "outputs": [],
   "source": [
    "d = {\n",
    "     'h' : 0 , \n",
    "     't' : 0\n",
    "     }\n",
    "\n",
    "import random\n",
    "\n",
    "for i in range(17):\n",
    "    d[random.choice(list(d.keys()))] +=1\n",
    "\n",
    "print(d) "
   ]
  },
  {
   "cell_type": "code",
   "execution_count": null,
   "metadata": {},
   "outputs": [],
   "source": [
    "students = [ \n",
    "             {'id':123 , 'name' : 'ali'  , 's': True},\n",
    "             {'id':378 , 'name' : 'taha' , 's': False},\n",
    "             {'id':934 , 'name' : 'sara' , 's': True} \n",
    "            ]\n",
    "\n",
    "print(sum(d['s']  for d in students))   #2\n",
    "\n",
    "print(students[1])  # {'id': 378, 'name': 'taha', 's': False}"
   ]
  },
  {
   "cell_type": "code",
   "execution_count": null,
   "metadata": {},
   "outputs": [],
   "source": [
    "### Nested dict\n",
    "myfamily = {\n",
    "        'child1':{'name':'taha'  , 'age' : 8}  ,      \n",
    "        'child2':{'name':'mahsa' , 'age' : 20}              \n",
    "        }\n",
    "\n",
    "print(myfamily)"
   ]
  },
  {
   "cell_type": "code",
   "execution_count": null,
   "metadata": {},
   "outputs": [],
   "source": [
    "# or\n",
    "d1 = {'name':'taha'  , 'age' : 8} \n",
    "d2 = {'name':'mahsa' , 'age' : 20}\n",
    "\n",
    "myfamily1 = {\n",
    "        'child1':d1 ,      \n",
    "        'child2':d2              \n",
    "        }"
   ]
  },
  {
   "cell_type": "code",
   "execution_count": null,
   "metadata": {},
   "outputs": [],
   "source": [
    "tel = {\n",
    "       'home' : '021-4455' , \n",
    "       'mobile' : '0912-1972028'\n",
    "       }\n",
    "\n",
    "person ={\n",
    "         'name'     : 'farshid' , \n",
    "         'age'      : 48 , \n",
    "         'children' : ['mahsa' , 'taha'],\n",
    "         'phone'    : tel\n",
    "        }\n",
    "\n",
    "print(len(person))  # 4\n",
    "\n",
    "print(person['phone']) # {'home': '021-4455', 'mobile': '0912-1972028'}\n",
    "\n",
    "print(person['phone']['mobile']) #0912-1972028\n",
    "\n",
    "print(person['children'])     # ['mahsa', 'taha']\n",
    "print(person['children'][0])  # mahsa\n",
    "\n",
    "print(person.pop('age'))"
   ]
  },
  {
   "cell_type": "markdown",
   "metadata": {},
   "source": [
    "<div class=\"alert alert-block alert-info\">\n",
    "<div style=\"direction:rtl;text-align:right;font-family:B Lotus, B Nazanin, Tahoma\"> دانشگاه شهید مدنی آذربایجان<br> برنامه نویسی مقدماتی با پایتون<br>امین گلزاری اسکوئی <br>1400-1401<br>\n",
    "</div>\n",
    "<a href=\"https://github.com/Amin-Golzari-Oskouei/Python-Programming-Course-Basic-2021\"> Codes and Projects (click here) </a>\n",
    "<a href=\"https://drive.google.com/drive/folders/1ZsQjBJJ4UAAp9zrGxm3c4qrhnvGBUYHw\">slides and videos (click here)</a>\n",
    "</div>"
   ]
  }
 ],
 "metadata": {
  "kernelspec": {
   "display_name": "Python 3",
   "language": "python",
   "name": "python3"
  },
  "language_info": {
   "codemirror_mode": {
    "name": "ipython",
    "version": 3
   },
   "file_extension": ".py",
   "mimetype": "text/x-python",
   "name": "python",
   "nbconvert_exporter": "python",
   "pygments_lexer": "ipython3",
   "version": "3.8.8"
  }
 },
 "nbformat": 4,
 "nbformat_minor": 4
}
