{
 "cells": [
  {
   "cell_type": "code",
   "execution_count": null,
   "metadata": {},
   "outputs": [],
   "source": [
    "\"\"\"\n",
    "    Set\n",
    "\"\"\""
   ]
  },
  {
   "cell_type": "code",
   "execution_count": null,
   "metadata": {},
   "outputs": [],
   "source": [
    "f = {'apple', 'orange' , 'banana'}\n",
    "\n",
    "print(type(f))  # <class 'set'>\n",
    "\n",
    "print(len(f))  # 3\n",
    "\n",
    "print(f)       # {'orange', 'banana', 'apple'}\n",
    "\n",
    "for i in f:\n",
    "    print(i)"
   ]
  },
  {
   "cell_type": "code",
   "execution_count": null,
   "metadata": {},
   "outputs": [],
   "source": [
    "f1 = set(('apple', 'orange' , 'banana'))    \n",
    "\n",
    "print(f == f1)   # True\n",
    "\n",
    "print('cherry' in f)   # False\n",
    "\n",
    "f.add('cherry')\n",
    "print(f)       # {'orange', 'banana', 'cherry', 'apple'}\n",
    "\n",
    "f.update(['mango' , 'grapes'])\n",
    "print(f)   \n",
    "# {'cherry', 'orange', 'banana', 'apple', 'mango', 'grapes'}\n",
    "\n",
    "f.remove('apple')\n",
    "print(f) \n",
    "# {'cherry', 'orange', 'banana', 'mango', 'grapes'}"
   ]
  },
  {
   "cell_type": "code",
   "execution_count": null,
   "metadata": {},
   "outputs": [],
   "source": [
    "vowels = {'a','e','o','i','u'}\n",
    "print(vowels)  # {'e', 'i', 'u', 'o', 'a'}\n",
    "\n",
    "# vowels.remove('k')  # KeyError: 'k'\n",
    "\n",
    "vowels.discard('h')  # Not raise an error\n",
    "\n",
    "x = vowels.pop()\n",
    "print(x)         # e\n",
    "print(vowels)    # {'i', 'u', 'o', 'a'}\n",
    "\n",
    "\n",
    "c = vowels.copy()\n",
    "print(c)\n",
    "\n",
    "vowels.clear()\n",
    "print(vowels)   # set()\n",
    "print(len(vowels))  # 0\n",
    "\n",
    "del c"
   ]
  },
  {
   "cell_type": "code",
   "execution_count": null,
   "metadata": {},
   "outputs": [],
   "source": [
    "# difference\n",
    "\n",
    "A = {1,2,3,4,5}\n",
    "B = {2,4,7}\n",
    "\n",
    "print(A-B)   # {1,3,5}\n",
    "print(B-A)   # {7}\n",
    "\n",
    "r = A.difference(B)\n",
    "print(r)   # {1, 3, 5}\n",
    "print(A)   # {1, 2, 3, 4, 5}\n",
    "print(B)   # {2, 4, 7}\n",
    "\n",
    "\n",
    "r = A.difference_update(B)\n",
    "print(r)   # None\n",
    "print(A)   # {1, 3, 5}\n",
    "print(B)   # {2, 4, 7}\n",
    "\n",
    "\n",
    "X = {1, 2, 3}\n",
    "Y = {2 ,3, 4}\n",
    "print(X.symmetric_difference(Y))  # {1, 4}\n",
    "print(X ^ Y)                      # {1, 4}\n",
    "\n",
    "X = {1, 2, 3}\n",
    "Y = {2 ,3, 4}\n",
    "print(X.intersection(Y))    # {2, 3}\n",
    "print(X & Y)                # {2, 3}\n",
    "\n",
    "X = {1, 2, 3}\n",
    "Y = {2 ,3, 4}\n",
    "print(X.union(Y))   # {1, 2, 3, 4}\n",
    "print(X | Y)        # {1, 2, 3, 4}\n",
    "\n",
    "X = {1, 2, 3}\n",
    "Y = {2 ,3, 4}\n",
    "X.update(Y)\n",
    "print(X)             # {1,2,3,4}\n",
    "\n",
    "X = {56 , 98}\n",
    "s ='ali'\n",
    "a = [13,25]\n",
    "t = (7 , 8 )\n",
    "d = {'one':1 , 'two':2}\n",
    "\n",
    "X.update(s,a,t,d)\n",
    "print(X) # {'two', 98, 7, 8, 'i', 13, 'one', 'l', 56, 25, 'a'}\n"
   ]
  },
  {
   "cell_type": "code",
   "execution_count": null,
   "metadata": {},
   "outputs": [],
   "source": [
    "# isdisjoint\n",
    "\n",
    "X = {1, 2}\n",
    "Y = {1, 2, 3}\n",
    "print(X.isdisjoint(Y))   # False\n",
    "\n",
    "X = {1, 2}\n",
    "Y = {3, 7, 8}\n",
    "print(X.isdisjoint(Y))   # True"
   ]
  },
  {
   "cell_type": "code",
   "execution_count": null,
   "metadata": {},
   "outputs": [],
   "source": [
    "X = {1, 2}\n",
    "Y = {1, 2 , 3}\n",
    "print(X.issubset(Y))  # True\n",
    "print(Y.issubset(X))  # False"
   ]
  },
  {
   "cell_type": "code",
   "execution_count": null,
   "metadata": {},
   "outputs": [],
   "source": [
    "w = 'alireza'\n",
    "x = {'a' , 'r'}\n",
    "s = set(w)\n",
    "print(x.intersection(s))  # {'a', 'r'}"
   ]
  },
  {
   "cell_type": "code",
   "execution_count": null,
   "metadata": {},
   "outputs": [],
   "source": [
    "# match\n",
    "d1 = {'a':1 , 'b':3 , 'c':2}\n",
    "d2 = {'a':2 , 'b':3 , 'c':1}\n",
    "\n",
    "s1 = set(d1.items())\n",
    "s2 = set(d2.items())\n",
    "s = s1 & s2\n",
    "\n",
    "for k,v in s:\n",
    "    print(k)    # b"
   ]
  },
  {
   "cell_type": "markdown",
   "metadata": {},
   "source": [
    "<div class=\"alert alert-block alert-info\">\n",
    "<div style=\"direction:rtl;text-align:right;font-family:B Lotus, B Nazanin, Tahoma\"> دانشگاه شهید مدنی آذربایجان<br> برنامه نویسی مقدماتی با پایتون<br>امین گلزاری اسکوئی <br>1400-1401<br>\n",
    "</div>\n",
    "<a href=\"https://github.com/Amin-Golzari-Oskouei/Python-Programming-Course-Basic-2021\"> Codes and Projects (click here) </a>\n",
    "<a href=\"https://drive.google.com/drive/folders/1ZsQjBJJ4UAAp9zrGxm3c4qrhnvGBUYHw\">slides and videos (click here)</a>\n",
    "</div>"
   ]
  }
 ],
 "metadata": {
  "kernelspec": {
   "display_name": "Python 3",
   "language": "python",
   "name": "python3"
  },
  "language_info": {
   "codemirror_mode": {
    "name": "ipython",
    "version": 3
   },
   "file_extension": ".py",
   "mimetype": "text/x-python",
   "name": "python",
   "nbconvert_exporter": "python",
   "pygments_lexer": "ipython3",
   "version": "3.8.8"
  }
 },
 "nbformat": 4,
 "nbformat_minor": 4
}
