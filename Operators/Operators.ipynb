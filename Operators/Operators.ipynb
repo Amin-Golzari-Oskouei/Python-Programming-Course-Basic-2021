{
 "cells": [
  {
   "cell_type": "code",
   "execution_count": null,
   "metadata": {},
   "outputs": [],
   "source": [
    "\"\"\"\n",
    "Operators :\n",
    "    Arithmetic : +,-,*,/,%,**,//   \n",
    "    Assignment : =,+=,-=,*= ,/= ,%= ,//= ,**= \n",
    "    Comparison : ==,!=,>,<,>=,<=\n",
    "    Logical    : and, or, not\n",
    "    Membership : in , not in\n",
    "    Bitwise    :  &, |, ^, ~, <<, >>\n",
    "\"\"\"\n",
    "\n",
    "print('Arithmetic Operators')\n",
    "\n",
    "#Addition\n",
    "print(1 + 3)       # 4\n",
    "\n",
    "#Subtraction\n",
    "print(5 - 3)       # 2\n",
    "\n",
    "#Multiplication\n",
    "print(2 * 3)       # 6\n",
    "\n",
    "#Float Division\n",
    "print(3 / 2)       # 1.5\n",
    " \n",
    "#Integer Division\n",
    "print(3 // 2)      # 1\n",
    "\n",
    "#Remainder\n",
    "print(17 % 5)      # 2\n",
    "\n",
    "# Exponentiation\n",
    "print(2 ** 3)      # 8 \n",
    "print(0 ** 0)      # 1\n",
    "print(6 ** 0)      # 1"
   ]
  },
  {
   "cell_type": "code",
   "execution_count": null,
   "metadata": {},
   "outputs": [],
   "source": [
    "print('Operator Precedence')\n",
    "\n",
    "print(8 - 2 * 3)                    # 2\n",
    "print(1 + 3 * 4 / 2)                # 7.0\n",
    "print(16 / 2 ** 3)                  # 2.0\n",
    "print(2**2**3)                      # 256"
   ]
  },
  {
   "cell_type": "code",
   "execution_count": null,
   "metadata": {},
   "outputs": [],
   "source": [
    "print('Augmented Assignment Operator')\n",
    "\n",
    "x = 4\n",
    "x += 2    # x = x + 2\n",
    "print(x)  # 6\n",
    "\n",
    "y = 8\n",
    "y //= 2   # y = y // 2\n",
    "print(y)  # 4"
   ]
  },
  {
   "cell_type": "markdown",
   "metadata": {},
   "source": [
    "<img src=\"images/1-2-types-2019-page-023.jpg\" alt=\"SRTTU\" style=\"width: 1000px;\"/>"
   ]
  },
  {
   "cell_type": "code",
   "execution_count": null,
   "metadata": {},
   "outputs": [],
   "source": [
    "print('Comparison Operators')\n",
    "\n",
    "print(2 == 3)                       # False\n",
    "print(2 != 3)                       # True\n",
    "print(2 < 3)                        # True\n",
    "\n",
    "print('Logical Operators') \n",
    "\n",
    "print(1<3  or 4>5)                  # True\n",
    "print(1<3 and 4>5)                  # False\n",
    "print(not 1<3)                      # False\n",
    "\n",
    "# 'Short-circuit'\n",
    "print(1 >= 2 and (5/0) > 2)         # False\n",
    "\n",
    "#print(3 >= 2 and (5/0) > 2)        # division by zero"
   ]
  },
  {
   "cell_type": "code",
   "execution_count": null,
   "metadata": {},
   "outputs": [],
   "source": [
    "print('Membership Operators')\n",
    "\n",
    "x = [1,2,3,4,5]\n",
    "print(3 in x)                       # True\n",
    "print(24 not in x)                  # True"
   ]
  },
  {
   "cell_type": "code",
   "execution_count": null,
   "metadata": {},
   "outputs": [],
   "source": [
    "print('Bitwise Operators')\n",
    "\n",
    "a = 13\n",
    "print(bin(a))                       # 1101\n",
    "\n",
    "b = 14\n",
    "print(bin(b))                       # 1110\n",
    "\n",
    "###\n",
    "\n",
    "c = a | b\n",
    "print(bin(c))                      # 1111\n",
    "\n",
    "###\n",
    "\n",
    "c = a & b\n",
    "print(bin(c))                      # 1100\n",
    "\n",
    "###\n",
    "\n",
    "c= a ^ b\n",
    "print(bin(c))                      # 0011 \n",
    "\n",
    "###\n",
    "\n",
    "a = 13\n",
    "print(a << 1)                      # 26\n",
    "\n",
    "###\n",
    "\n",
    "a = 20\n",
    "print(a >> 1)                     # 10\n",
    "\n",
    "###\n",
    "\n",
    "a = 18\n",
    "print(a >> 2)                     # 4\n",
    "\n",
    "###\n",
    "\n",
    "a = 20\n",
    "print(~a)                        # -21 # -(a+1)\n"
   ]
  },
  {
   "cell_type": "code",
   "execution_count": null,
   "metadata": {},
   "outputs": [],
   "source": [
    "print('--- Operations on string ---')\n",
    "\n",
    "s1 = 'Amin'\n",
    "s2 = ' Golzari Oskouei'\n",
    "s3 = s1 + s2            # Amin Golzari Oskouei\n",
    "print(s3)                        \n",
    "\n",
    "###\n",
    "\n",
    "s = 'sara'\n",
    "print(3* (s + ' '))     # sara sara sara                   "
   ]
  },
  {
   "cell_type": "code",
   "execution_count": null,
   "metadata": {},
   "outputs": [],
   "source": [
    "#Every object in python is stored somewhere in memory. \n",
    "#We can use id() to get that memory address.\n",
    "\n",
    "s1 = 'amin'\n",
    "s2 = 'amin'\n",
    "print(id(s1)==id(s2))            # True\n",
    "\n",
    "s1 += ' amin'\n",
    "\n",
    "print(id(s1)==id(s2))            # False"
   ]
  },
  {
   "cell_type": "code",
   "execution_count": null,
   "metadata": {},
   "outputs": [],
   "source": [
    "print(abs(-4))             # 4\n",
    "print(pow(2,3))            # 8\n",
    "print(divmod(8,4))         # (2,0)\n",
    "print(round(2.6))          # 3\n",
    "print(abs.__doc__)         # 'Return the absolute value of the argument.'"
   ]
  },
  {
   "cell_type": "markdown",
   "metadata": {},
   "source": [
    "<img src=\"images/1-2-types-2019-page-021.jpg\" alt=\"SRTTU\" style=\"width: 1000px;\"/>"
   ]
  },
  {
   "cell_type": "code",
   "execution_count": null,
   "metadata": {},
   "outputs": [],
   "source": [
    "import math\n",
    "dir(math)"
   ]
  },
  {
   "cell_type": "code",
   "execution_count": null,
   "metadata": {},
   "outputs": [],
   "source": [
    "print('# math #')\n",
    "\n",
    "import math\n",
    "print( math.sqrt(4))       #2.0\n",
    "print( math.trunc(2.7))    #2\n",
    "print( math.floor(2.3))    #2\n",
    "print( math.ceil(2.3))     #3\n",
    "print( math.factorial(4))  #24\n",
    "print( math.log2(32))      #5.0\n",
    "print( math.log10(100))    #2.0\n",
    "print( math.e)             #2.7\n",
    "print( math.log(32))       #3.46\n",
    "print( math.sin(5))        #-0.9\n",
    "print( math.fmod(9,4))     #1.0\n",
    "print( math.gcd(30,4))     #2\n",
    "print( math.fabs(-4))      #4.0\n",
    "print( abs(-4))            #4\n",
    "print( math.pow(2,3))      #8.0\n",
    "print( pow(2,3))           #8\n",
    "print( math.pi)            # 3.141592653589793\n",
    "print(f'{math.pi :.2f}')   # 3.14"
   ]
  },
  {
   "cell_type": "code",
   "execution_count": null,
   "metadata": {},
   "outputs": [],
   "source": [
    "print('# random #')\n",
    "import random\n",
    "print( random.randint(1, 5))  \n",
    "print( random.choice([1,5]))  \n",
    "a = [1,2,3,4]\n",
    "random.shuffle(a)\n",
    "print(a)"
   ]
  },
  {
   "cell_type": "code",
   "execution_count": null,
   "metadata": {},
   "outputs": [],
   "source": [
    "print('# datetime #')\n",
    "\n",
    "import datetime\n",
    "now = datetime.datetime.now()\n",
    "print(now)                     # 2020-05-16\n",
    "print( now.year)               # 2020\n",
    "print( now.month)              # 2020\n",
    "print( now.day)                # 16"
   ]
  },
  {
   "cell_type": "code",
   "execution_count": null,
   "metadata": {},
   "outputs": [],
   "source": [
    "print('# sys , platform ,os #')\n",
    "import sys\n",
    "print( sys.version)           # 3.7.3\n",
    "print( sys.platform)          # win32\n",
    "\n",
    "import platform\n",
    "platform.release()            # 10\n",
    "\n",
    "import os \n",
    "print(os.getcwd())            #'C:\\Users\\amin\\Desktop\\Python'"
   ]
  },
  {
   "cell_type": "markdown",
   "metadata": {},
   "source": [
    "<div class=\"alert alert-block alert-info\">\n",
    "<div style=\"direction:rtl;text-align:right;font-family:B Lotus, B Nazanin, Tahoma\"> دانشگاه شهید مدنی آذربایجان<br> برنامه نویسی مقدماتی با پایتون<br>امین گلزاری اسکوئی <br>1400-1401<br>\n",
    "</div>\n",
    "<a href=\"https://github.com/Amin-Golzari-Oskouei/Python-Programming-Course-Basic-2021\"> Codes and Projects (click here) </a>\n",
    "<a href=\"https://drive.google.com/drive/folders/1ZsQjBJJ4UAAp9zrGxm3c4qrhnvGBUYHw\">slides and videos (click here)</a>\n",
    "</div>"
   ]
  }
 ],
 "metadata": {
  "kernelspec": {
   "display_name": "Python 3",
   "language": "python",
   "name": "python3"
  },
  "language_info": {
   "codemirror_mode": {
    "name": "ipython",
    "version": 3
   },
   "file_extension": ".py",
   "mimetype": "text/x-python",
   "name": "python",
   "nbconvert_exporter": "python",
   "pygments_lexer": "ipython3",
   "version": "3.8.8"
  }
 },
 "nbformat": 4,
 "nbformat_minor": 4
}
