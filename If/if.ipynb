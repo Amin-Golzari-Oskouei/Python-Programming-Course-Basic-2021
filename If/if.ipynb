{
 "cells": [
  {
   "cell_type": "markdown",
   "metadata": {},
   "source": [
    "<img src=\"images/1-3-flow_2019-page-007.jpg\" alt=\"SRTTU\" style=\"width: 1000px;\"/>"
   ]
  },
  {
   "cell_type": "markdown",
   "metadata": {},
   "source": [
    "<img src=\"images/1-3-flow_2019-page-008.jpg\" alt=\"SRTTU\" style=\"width: 1000px;\"/>"
   ]
  },
  {
   "cell_type": "markdown",
   "metadata": {},
   "source": [
    "<img src=\"images/1-3-flow_2019-page-009.jpg\" alt=\"SRTTU\" style=\"width: 1000px;\"/>"
   ]
  },
  {
   "cell_type": "code",
   "execution_count": null,
   "metadata": {},
   "outputs": [],
   "source": [
    "'''\n",
    "Control statements:\n",
    "    if\n",
    "    if else\n",
    "    elif\n",
    "'''\n",
    "import math\n",
    "n = -16\n",
    "# n = int(input('enter:'))\n",
    "if n < 0 :\n",
    "   n = abs(n)\n",
    "   \n",
    "print(math.sqrt(n))                # 4"
   ]
  },
  {
   "cell_type": "code",
   "execution_count": null,
   "metadata": {},
   "outputs": [],
   "source": [
    "a = 5\n",
    "if True:\n",
    "    a = 6\n",
    "print(a)                           # 6"
   ]
  },
  {
   "cell_type": "code",
   "execution_count": null,
   "metadata": {},
   "outputs": [],
   "source": [
    "a = 20\n",
    "if a % 2 == 0:\n",
    "    print('evevn')                  # even\n",
    "else:    \n",
    "    print('odd')"
   ]
  },
  {
   "cell_type": "code",
   "execution_count": null,
   "metadata": {},
   "outputs": [],
   "source": [
    "x = 3\n",
    "y = 2\n",
    "if x == 1 or y == 1:   # if 1 in(x,y)\n",
    "    print('ok')\n",
    "else:\n",
    "    print('no')                      # no"
   ]
  },
  {
   "cell_type": "code",
   "execution_count": null,
   "metadata": {},
   "outputs": [],
   "source": [
    "names = ['sara','taha','amin']\n",
    "if 'ali' in names:\n",
    "    print('found')\n",
    "else:\n",
    "    print('not found')               # not found"
   ]
  },
  {
   "cell_type": "code",
   "execution_count": null,
   "metadata": {},
   "outputs": [],
   "source": [
    "print('conditional expression')\n",
    "\n",
    "a = 2\n",
    "b = 5\n",
    "\n",
    "#if a < b:\n",
    "#    m = a\n",
    "#else:\n",
    "#    m = b\n",
    "\n",
    "m = a if a < b else b    \n",
    "\n",
    "print(m)    "
   ]
  },
  {
   "cell_type": "code",
   "execution_count": null,
   "metadata": {},
   "outputs": [],
   "source": [
    "my_list  = ['a','e','o','i','u']\n",
    "\n",
    "#if 'o' in my_list:\n",
    "#    s = 'yes'\n",
    "#else:\n",
    "#    s = 'no'\n",
    "\n",
    "s = 'yes' if ('o' in my_list) else 'no'  # yes\n",
    "print(s)  "
   ]
  },
  {
   "cell_type": "code",
   "execution_count": null,
   "metadata": {},
   "outputs": [],
   "source": [
    "x = 2\n",
    "y = 6\n",
    "\n",
    "z = 1 + ( x if x > y else y+2)\n",
    "\n",
    "print(z)                                 # 9"
   ]
  },
  {
   "cell_type": "code",
   "execution_count": null,
   "metadata": {},
   "outputs": [],
   "source": [
    "grade = 12\n",
    "s = 'fail' if grade < 10 else 'pass'\n",
    "print(s)                                # pass"
   ]
  },
  {
   "cell_type": "code",
   "execution_count": null,
   "metadata": {},
   "outputs": [],
   "source": [
    "today = 'holiday'\n",
    "b = 25000\n",
    "\n",
    "if today == 'holiday':\n",
    "   if b > 20000:\n",
    "       print('shopping')              # shopping\n",
    "   else:\n",
    "       print('watch TV')\n",
    "else:\n",
    "    print('normal working day')"
   ]
  },
  {
   "cell_type": "markdown",
   "metadata": {},
   "source": [
    "<img src=\"images/1-3-flow_2019-page-027.jpg\" alt=\"SRTTU\" style=\"width: 1000px;\"/>"
   ]
  },
  {
   "cell_type": "code",
   "execution_count": null,
   "metadata": {},
   "outputs": [],
   "source": [
    "score = 75\n",
    "\n",
    "if score >= 90:\n",
    "    l = 'A'\n",
    "else:\n",
    "  if score >= 80 :\n",
    "      l = 'B'\n",
    "  else:\n",
    "       if score>= 70:\n",
    "           l = 'C'\n",
    "       else :\n",
    "           l = 'D'\n",
    "\n",
    "print(l)                          # C     \n",
    "\n",
    "print('elif')  \n",
    "     \n",
    "score = 75\n",
    "\n",
    "if score >= 90:\n",
    "    l = 'A'\n",
    "elif score >= 80 :\n",
    "    l = 'B'\n",
    "elif score>= 70:\n",
    "    l = 'C'\n",
    "else :\n",
    "    l = 'D'\n",
    "    \n",
    "print(l)                          # C   "
   ]
  },
  {
   "cell_type": "code",
   "execution_count": null,
   "metadata": {},
   "outputs": [],
   "source": [
    "x = -2\n",
    "y = -4\n",
    "\n",
    "if x > 0 and y > 0 :\n",
    "    print('A')\n",
    "elif x > 0 and y < 0 :\n",
    "    print('B')    \n",
    "elif y > 0:\n",
    "    print('C')                   # D\n",
    "else:\n",
    "   print('D')  "
   ]
  },
  {
   "cell_type": "code",
   "execution_count": null,
   "metadata": {},
   "outputs": [],
   "source": [
    "age = 47\n",
    "gender ='M'\n",
    "\n",
    "if age < 18:\n",
    "    if gender == 'M':\n",
    "        print('son')\n",
    "    else:\n",
    "        print('daughter')\n",
    "elif age >= 18 and age < 65:\n",
    "    if gender == 'M':\n",
    "        print('father')\n",
    "    else:\n",
    "        print('mother')\n",
    "else:\n",
    "    if gender == 'M':\n",
    "        print('grandfather')\n",
    "    else:\n",
    "        print('grandmother')"
   ]
  },
  {
   "cell_type": "code",
   "execution_count": null,
   "metadata": {},
   "outputs": [],
   "source": [
    "w = 75        # w = float(input('weight in kilo:'))\n",
    "h = 1.74      # h = float(input('height in meter:'))\n",
    "\n",
    "bmi = w / (h ** 2)\n",
    "\n",
    "if bmi < 15:\n",
    "    c = 'very severely underweight'\n",
    "elif 15 <= bmi <= 16 :\n",
    "    c = 'severely underweight'\n",
    "elif 16 < bmi <= 18.5:\n",
    "    c = 'underweight'\n",
    "elif 18.5 < bmi <= 25:\n",
    "    c = 'Normal'\n",
    "elif 25 < bmi <= 30:\n",
    "    c = 'overweight'\n",
    "elif 30 < bmi <= 35:\n",
    "    c = 'moderately obese'\n",
    "elif 35 < bmi <= 40:\n",
    "    c = 'severely obese'\n",
    "elif bmi > 40:\n",
    "    c = 'very severely obese'\n",
    "\n",
    "print('Your BMI = ' + str(bmi) + ' You are ' + c + '.')\n",
    "# Your BMI = 24.772096710265558 You are Normal."
   ]
  },
  {
   "cell_type": "markdown",
   "metadata": {},
   "source": [
    "<div class=\"alert alert-block alert-info\">\n",
    "<div style=\"direction:rtl;text-align:right;font-family:B Lotus, B Nazanin, Tahoma\"> دانشگاه شهید مدنی آذربایجان<br> برنامه نویسی مقدماتی با پایتون<br>امین گلزاری اسکوئی <br>1400-1401<br>\n",
    "</div>\n",
    "<a href=\"https://github.com/Amin-Golzari-Oskouei/Python-Programming-Course-Basic-2021\"> Codes and Projects (click here) </a>\n",
    "<a href=\"https://drive.google.com/drive/folders/1ZsQjBJJ4UAAp9zrGxm3c4qrhnvGBUYHw\">slides and videos (click here)</a>\n",
    "</div>"
   ]
  }
 ],
 "metadata": {
  "kernelspec": {
   "display_name": "Python 3",
   "language": "python",
   "name": "python3"
  },
  "language_info": {
   "codemirror_mode": {
    "name": "ipython",
    "version": 3
   },
   "file_extension": ".py",
   "mimetype": "text/x-python",
   "name": "python",
   "nbconvert_exporter": "python",
   "pygments_lexer": "ipython3",
   "version": "3.8.8"
  }
 },
 "nbformat": 4,
 "nbformat_minor": 4
}
