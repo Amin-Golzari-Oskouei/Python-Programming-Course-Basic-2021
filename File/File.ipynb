{
 "cells": [
  {
   "cell_type": "code",
   "execution_count": null,
   "metadata": {},
   "outputs": [],
   "source": [
    "'''\n",
    "Text \n",
    "\n",
    "Binary \n",
    "'''"
   ]
  },
  {
   "cell_type": "code",
   "execution_count": null,
   "metadata": {},
   "outputs": [],
   "source": [
    "f = open('d:/myfile.txt','w')\n",
    "line1 = 'Hello Python\\n'\n",
    "line2 = 'C++\\n'\n",
    "line3 = str(52)\n",
    "f.write(line1)\n",
    "f.write(line2)\n",
    "f.write(line3)\n",
    "print(f.name)   # d:/myfile.txt\n",
    "print(f.mode)   # w\n",
    "\n",
    "f.close()"
   ]
  },
  {
   "cell_type": "code",
   "execution_count": null,
   "metadata": {},
   "outputs": [],
   "source": [
    "with open('d:/myfile2.txt','w') as myfile:\n",
    "    line1 = 'Hello Python\\n'\n",
    "    line2 = 'C++\\n'\n",
    "    myfile.write(line1)\n",
    "    myfile.write(line2)"
   ]
  },
  {
   "cell_type": "code",
   "execution_count": null,
   "metadata": {},
   "outputs": [],
   "source": [
    "#\n",
    "#try :\n",
    "#    f = open('d:/myfile.txt','r')\n",
    "#except FileNotFoundError :\n",
    "#    print('error')"
   ]
  },
  {
   "cell_type": "code",
   "execution_count": null,
   "metadata": {},
   "outputs": [],
   "source": [
    "with open('d:/myfile2.txt','r') as f:\n",
    "    data = f.readlines()\n",
    "    print(data)            # ['Hello Python\\n', 'C++\\n']"
   ]
  },
  {
   "cell_type": "code",
   "execution_count": null,
   "metadata": {},
   "outputs": [],
   "source": [
    "with open('d:/myfile2.txt','r') as f:\n",
    "    print(f.readline())               # Hello Python"
   ]
  },
  {
   "cell_type": "code",
   "execution_count": null,
   "metadata": {},
   "outputs": [],
   "source": [
    "with open('d:/myfile2.txt','r') as f:\n",
    "     print(f.read(3))                  # Hel\n",
    "     print(f.read(5))                  # lo Py"
   ]
  },
  {
   "cell_type": "code",
   "execution_count": null,
   "metadata": {},
   "outputs": [],
   "source": [
    "with open('d:/myfile2.txt','r') as f:\n",
    "    for line in f:\n",
    "        print(line, end='')"
   ]
  },
  {
   "cell_type": "code",
   "execution_count": null,
   "metadata": {},
   "outputs": [],
   "source": [
    "with open('d:/myfile2.txt','r') as f:\n",
    "     x = f.read()\n",
    "     print(x) "
   ]
  },
  {
   "cell_type": "code",
   "execution_count": null,
   "metadata": {},
   "outputs": [],
   "source": [
    "import os\n",
    "n = 'd:/myfile2.txt'\n",
    "print(os.path.exists(n))  # True\n",
    "os.remove(n)"
   ]
  },
  {
   "cell_type": "code",
   "execution_count": null,
   "metadata": {},
   "outputs": [],
   "source": [
    "name1 = 'd:/myfile.txt'\n",
    "name2 = 'd:/a.txt'\n",
    "\n",
    "with open(name1,'r') as f1 , open(name2, 'w') as f2:\n",
    "    for line in f1:\n",
    "        f2.write(line)"
   ]
  },
  {
   "cell_type": "code",
   "execution_count": null,
   "metadata": {},
   "outputs": [],
   "source": [
    "name1 = 'd:/x.txt'\n",
    "name2 = 'd:/y.txt'\n",
    "name3 = 'd:/z.txt'\n",
    "\n",
    "with open(name1, 'w') as f1:\n",
    "    f1.write('ali\\n')\n",
    "    f1.write('sara\\n')\n",
    "    \n",
    "with open(name2, 'w') as f2:\n",
    "    f2.write('taha\\n')\n",
    "    f2.write('omid\\n')\n",
    "    f2.write('mahsa\\n')\n",
    "    \n",
    "with open(name1) as f1 , open(name2) as f2:\n",
    "      data1 = f1.read()\n",
    "      data2 = f2.read()\n",
    "\n",
    "with open(name3,'w')  as f3:\n",
    "    f3.write(data1 + data2)"
   ]
  },
  {
   "cell_type": "code",
   "execution_count": null,
   "metadata": {},
   "outputs": [],
   "source": [
    "lst = ['yes','no','no','yes','yes','yes','no']\n",
    "\n",
    "name = 'd:/answer.txt'\n",
    "\n",
    "with open(name, 'w') as f:\n",
    "    for i in lst:\n",
    "        f.write(i)\n",
    "        f.write('\\n')\n",
    "\n",
    "c1 = 0\n",
    "c2 = 0"
   ]
  },
  {
   "cell_type": "code",
   "execution_count": null,
   "metadata": {},
   "outputs": [],
   "source": [
    "with open(name, 'r')  as f:\n",
    "     lst = f.readlines()       \n",
    "     for i in lst:\n",
    "         x = i.strip()\n",
    "         if x == 'yes':\n",
    "            c1 += 1\n",
    "         else :\n",
    "            c2 += 1\n",
    "print(c1)   # 4         \n",
    "print(c2)   # 3\n",
    "\n",
    "\n",
    "d = dict()\n",
    "with open(name) as f:\n",
    "    for line in f:\n",
    "        w = line.split()\n",
    "        for i in w:\n",
    "            d[i] = d.get(i, 0) + 1\n",
    "print(d)                            # {'yes': 4, 'no': 3}           \n"
   ]
  },
  {
   "cell_type": "code",
   "execution_count": null,
   "metadata": {},
   "outputs": [],
   "source": [
    "def count(filename):\n",
    "    try:\n",
    "        with open(filename) as f:\n",
    "            x = f.read()\n",
    "    except FileNotFoundError as e:\n",
    "        print(e)        \n",
    "    else:    \n",
    "        c = len(x.split())\n",
    "        print(f'{filename} : {c}')\n",
    "        \n",
    "\n",
    "count('d:/x.txt')         # d:/x.txt : 2\n",
    "count('d:/h.txt')         # No such file or directory:\n",
    "count('d:/answer.txt')    # d:/answer.txt : 7 "
   ]
  },
  {
   "cell_type": "code",
   "execution_count": null,
   "metadata": {},
   "outputs": [],
   "source": [
    "def count(filename):\n",
    "    try:\n",
    "        with open(filename) as f:\n",
    "            x = f.read()\n",
    "    except FileNotFoundError as e:\n",
    "        print(e)        \n",
    "    else:    \n",
    "        c = len(x.split())\n",
    "        print(f'{filename} : {c}')\n",
    "        \n",
    "lst = ['d:/x.txt' , 'd:/h.txt' ,'d:/answer.txt' ]\n",
    "for i in lst:\n",
    "    count(i)"
   ]
  },
  {
   "cell_type": "code",
   "execution_count": null,
   "metadata": {},
   "outputs": [],
   "source": [
    "with open('d:/test.txt' , 'w') as myfile:\n",
    "    myfile.write('ABCDEF')\n",
    "\n",
    "with open('d:/test.txt', 'r')  as f:\n",
    "    print(f.tell())   # 0\n",
    "    print(f.read(1))  # A\n",
    "    f.seek(3)\n",
    "    print(f.read(2))  # DE\n",
    "    print(f.tell())   # 5\n",
    "    print(f.read(1))  # F"
   ]
  },
  {
   "cell_type": "code",
   "execution_count": null,
   "metadata": {},
   "outputs": [],
   "source": [
    "with open('d:/test.txt','rb' )  as f:\n",
    "    print(f.tell())   # 0\n",
    "    print(f.read(1))  # b 'A'\n",
    "    f.seek(3)\n",
    "    print(f.read(2))  # b 'DE'\n",
    "    print(f.tell())   # 5\n",
    "    print(f.read(1))  # b 'F'\n",
    "    f.seek(-5,2)\n",
    "    print(f.read(1))  # b'B'"
   ]
  },
  {
   "cell_type": "code",
   "execution_count": null,
   "metadata": {},
   "outputs": [],
   "source": [
    "line1 = 'ali\\n'\n",
    "line2 = 'sara\\n'\n",
    "lst = [line1, line2]\n",
    "\n",
    "with open('d:/g.txt' , 'w') as f:\n",
    "    f.writelines(lst)"
   ]
  },
  {
   "cell_type": "code",
   "execution_count": null,
   "metadata": {},
   "outputs": [],
   "source": [
    "line3 = 'mahsa'\n",
    "\n",
    "with open('d:/g.txt' , 'a') as f:\n",
    "     f.write(line3)"
   ]
  },
  {
   "cell_type": "code",
   "execution_count": null,
   "metadata": {},
   "outputs": [],
   "source": [
    "x = b'farshid'\n",
    "print(x)            # b'farshid'\n",
    "print(x.decode())   # farshid\n",
    "\n",
    "b = bytes([65, 97])\n",
    "print(b)               # b'Aa'\n",
    "print(b.decode())      # Aa\n",
    "\n",
    "\n",
    "a = bytearray([65, 97])\n",
    "print(a)               # bytearray(b'Aa')\n",
    "print(a.decode())      # Aa"
   ]
  },
  {
   "cell_type": "code",
   "execution_count": null,
   "metadata": {},
   "outputs": [],
   "source": [
    "data = 'Hello\\nPython'\n",
    "print(data)\n",
    "\n",
    "b = bytes(data, 'utf-8')\n",
    "print(b)                  # b'Hello\\nPython'\n",
    "\n",
    "with open('d:/myfilebin.bin', 'wb')  as f:\n",
    "    print(f.write(b))                         # 12"
   ]
  },
  {
   "cell_type": "code",
   "execution_count": null,
   "metadata": {},
   "outputs": [],
   "source": [
    "import json\n",
    "\n",
    "d = {'k1':'v1' , 'k2':'v2'}\n",
    "\n",
    "js = json.dumps(d)\n",
    "print(js)          # {\"k1\": \"v1\", \"k2\": \"v2\"}\n",
    "\n",
    "print(json.dumps(d , indent = 4))\n",
    "'''\n",
    "{\n",
    "    \"k1\": \"v1\",\n",
    "    \"k2\": \"v2\"\n",
    "}\n",
    "'''\n",
    "print(json.dumps(d , indent = 4 , separators = (';','=')))\n",
    "'''\n",
    "{\n",
    "    \"k1\"=\"v1\";\n",
    "    \"k2\"=\"v2\"\n",
    "}\n",
    "'''\n",
    "\n",
    "with open('d:/j.json', 'w') as f:\n",
    "    json.dump(d, f)\n",
    "    \n",
    "with open('d:/j.json') as f:\n",
    "    print(json.load(f))      # {'k1': 'v1', 'k2': 'v2'}"
   ]
  },
  {
   "cell_type": "code",
   "execution_count": null,
   "metadata": {},
   "outputs": [],
   "source": [
    "import pickle \n",
    "\n",
    "with open('d:/p.bin', 'wb') as f:\n",
    "    pickle.dump(d, f)\n",
    "    \n",
    "with open('d:/p.bin','rb') as f:\n",
    "    print(pickle.load(f))  "
   ]
  },
  {
   "cell_type": "code",
   "execution_count": null,
   "metadata": {},
   "outputs": [],
   "source": [
    "import csv\n",
    "x  = ['Name' , 'Age'] \n",
    "r1 = ['ali',35]\n",
    "r2 = ['taha',10]\n",
    "r3 = ['mahsa',40]\n",
    "\n",
    "with open('d:/a.csv','w') as f:\n",
    "    w = csv.writer(f)\n",
    "    w.writerow(x)\n",
    "    w.writerows([r1,r2,r3])\n",
    "    \n",
    "    \n",
    "with open('d:/a.csv', newline = '\\n') as f:\n",
    "    r = csv.reader(f)\n",
    "    for i in r:\n",
    "        print('   '.join(i))\n",
    "'''\n",
    "Name   Age\n",
    "ali   35\n",
    "taha   10\n",
    "mahsa   40\n",
    "'''"
   ]
  },
  {
   "cell_type": "code",
   "execution_count": null,
   "metadata": {},
   "outputs": [],
   "source": [
    "import pandas as pd\n",
    "\n",
    "data = pd.read_csv('d:/a.csv')\n",
    "print(data)\n",
    "\n",
    "data.to_csv('d:/b.csv',sep=',', index = False)\n",
    "\n",
    "print('-----')\n",
    "\n",
    "import glob\n",
    "print(glob.glob('d:/a*.csv'))\n"
   ]
  },
  {
   "cell_type": "markdown",
   "metadata": {},
   "source": [
    "<div class=\"alert alert-block alert-info\">\n",
    "<div style=\"direction:rtl;text-align:right;font-family:B Lotus, B Nazanin, Tahoma\"> دانشگاه شهید مدنی آذربایجان<br> برنامه نویسی مقدماتی با پایتون<br>امین گلزاری اسکوئی <br>1400-1401<br>\n",
    "</div>\n",
    "<a href=\"https://github.com/Amin-Golzari-Oskouei/Python-Programming-Course-Basic-2021\"> Codes and Projects (click here) </a>\n",
    "<a href=\"https://drive.google.com/drive/folders/1ZsQjBJJ4UAAp9zrGxm3c4qrhnvGBUYHw\">slides and videos (click here)</a>\n",
    "</div>"
   ]
  }
 ],
 "metadata": {
  "kernelspec": {
   "display_name": "Python 3",
   "language": "python",
   "name": "python3"
  },
  "language_info": {
   "codemirror_mode": {
    "name": "ipython",
    "version": 3
   },
   "file_extension": ".py",
   "mimetype": "text/x-python",
   "name": "python",
   "nbconvert_exporter": "python",
   "pygments_lexer": "ipython3",
   "version": "3.8.8"
  }
 },
 "nbformat": 4,
 "nbformat_minor": 4
}
