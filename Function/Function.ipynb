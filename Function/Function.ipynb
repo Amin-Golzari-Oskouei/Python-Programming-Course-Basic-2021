{
 "cells": [
  {
   "cell_type": "markdown",
   "metadata": {},
   "source": [
    "<img src=\"images/2-1functions_2019-page-003.jpg\" alt=\"SRTTU\" style=\"width: 1000px;\"/>"
   ]
  },
  {
   "cell_type": "markdown",
   "metadata": {},
   "source": [
    "<img src=\"images/2-1functions_2019-page-004.jpg\" alt=\"SRTTU\" style=\"width: 1000px;\"/>"
   ]
  },
  {
   "cell_type": "markdown",
   "metadata": {},
   "source": [
    "<img src=\"images/2-1functions_2019-page-005.jpg\" alt=\"SRTTU\" style=\"width: 1000px;\"/>"
   ]
  },
  {
   "cell_type": "markdown",
   "metadata": {},
   "source": [
    "<img src=\"images/2-1functions_2019-page-006.jpg\" alt=\"SRTTU\" style=\"width: 1000px;\"/>"
   ]
  },
  {
   "cell_type": "markdown",
   "metadata": {},
   "source": [
    "<img src=\"images/2-1functions_2019-page-007.jpg\" alt=\"SRTTU\" style=\"width: 1000px;\"/>"
   ]
  },
  {
   "cell_type": "markdown",
   "metadata": {},
   "source": [
    "<img src=\"images/2-1functions_2019-page-008.jpg\" alt=\"SRTTU\" style=\"width: 1000px;\"/>"
   ]
  },
  {
   "cell_type": "markdown",
   "metadata": {},
   "source": [
    "<img src=\"images/2-1functions_2019-page-009.jpg\" alt=\"SRTTU\" style=\"width: 1000px;\"/>"
   ]
  },
  {
   "cell_type": "markdown",
   "metadata": {},
   "source": [
    "<img src=\"images/2-1functions_2019-page-026.jpg\" alt=\"SRTTU\" style=\"width: 1000px;\"/>"
   ]
  },
  {
   "cell_type": "code",
   "execution_count": null,
   "metadata": {},
   "outputs": [],
   "source": [
    "\"\"\"\n",
    "function\n",
    "\"\"\""
   ]
  },
  {
   "cell_type": "code",
   "execution_count": null,
   "metadata": {},
   "outputs": [],
   "source": [
    "def hello_1():\n",
    "    print('hello world1')\n",
    "    \n",
    "hello_1() "
   ]
  },
  {
   "cell_type": "code",
   "execution_count": null,
   "metadata": {},
   "outputs": [],
   "source": [
    "def hello_2():\n",
    "    return 'hello world2'\n",
    "\n",
    "s = hello_2()\n",
    "print(s)"
   ]
  },
  {
   "cell_type": "code",
   "execution_count": null,
   "metadata": {},
   "outputs": [],
   "source": [
    "def hello_3(p):\n",
    "    print(p)\n",
    "\n",
    "s = 'hello world3'\n",
    "hello_3(s) "
   ]
  },
  {
   "cell_type": "markdown",
   "metadata": {},
   "source": [
    "<img src=\"images/2-1functions_2019-page-013.jpg\" alt=\"SRTTU\" style=\"width: 1000px;\"/>"
   ]
  },
  {
   "cell_type": "code",
   "execution_count": null,
   "metadata": {},
   "outputs": [],
   "source": [
    "def addtwo(a, b):\n",
    "    return a+b\n",
    "\n",
    "print(addtwo(2, 3))             # 5"
   ]
  },
  {
   "cell_type": "code",
   "execution_count": null,
   "metadata": {},
   "outputs": [],
   "source": [
    "def f(a):\n",
    "    a *= 2\n",
    "    print(a)    #10\n",
    "    return a+1\n",
    "\n",
    "b = 5\n",
    "r = f(b)\n",
    "print(r)      # 11"
   ]
  },
  {
   "cell_type": "code",
   "execution_count": null,
   "metadata": {},
   "outputs": [],
   "source": [
    "def f(x,y):\n",
    "    if x > y :\n",
    "        return x\n",
    "    return y\n",
    "\n",
    "r = f(2,5)    \n",
    "print(r)    # 5"
   ]
  },
  {
   "cell_type": "code",
   "execution_count": null,
   "metadata": {},
   "outputs": [],
   "source": [
    "def g(x,y,z):\n",
    "    return f(x , f(y,z))\n",
    "\n",
    "print(g(2,5,3))  # 5"
   ]
  },
  {
   "cell_type": "code",
   "execution_count": null,
   "metadata": {},
   "outputs": [],
   "source": [
    "PI = 3.14\n",
    "\n",
    "def area(r):\n",
    "    return PI * r *  r\n",
    "\n",
    "def circumference(r):\n",
    "    return 2 * PI * r\n",
    "\n",
    "def main():\n",
    "    r = 4\n",
    "    print(area(r))             # 50.24\n",
    "    print(circumference(r))    # 25.12\n",
    "\n",
    "main()  "
   ]
  },
  {
   "cell_type": "markdown",
   "metadata": {},
   "source": [
    "<img src=\"images/2-1functions_2019-page-010.jpg\" alt=\"SRTTU\" style=\"width: 1000px;\"/>"
   ]
  },
  {
   "cell_type": "code",
   "execution_count": null,
   "metadata": {},
   "outputs": [],
   "source": [
    "x = 1\n",
    "\n",
    "def f():\n",
    "    x = 2\n",
    "    print(x)    # 2\n",
    "    \n",
    "f()    \n",
    "print(x)        # 1"
   ]
  },
  {
   "cell_type": "code",
   "execution_count": null,
   "metadata": {},
   "outputs": [],
   "source": [
    "x = 1\n",
    "\n",
    "def f():\n",
    "    global x\n",
    "    x = 2\n",
    "    print(x)    # 2\n",
    "    \n",
    "f()    \n",
    "print(x)        # 2"
   ]
  },
  {
   "cell_type": "code",
   "execution_count": null,
   "metadata": {},
   "outputs": [],
   "source": [
    "x = 5\n",
    "def func():\n",
    "    global x\n",
    "    print(x)   # 5\n",
    "    x = 8\n",
    "    print(x)   # 8\n",
    "    \n",
    "func()    \n",
    "print(x)      # 8"
   ]
  },
  {
   "cell_type": "code",
   "execution_count": null,
   "metadata": {},
   "outputs": [],
   "source": [
    "def f(a, b):\n",
    "    a -=1\n",
    "    b +=1\n",
    "    return a, b\n",
    "\n",
    "x = 3\n",
    "y = 5\n",
    "m , n = f(x, y)\n",
    "print(m)        # 2\n",
    "print(n)        # 6"
   ]
  },
  {
   "cell_type": "markdown",
   "metadata": {},
   "source": [
    "<img src=\"images/2-1functions_2019-page-030.jpg\" alt=\"SRTTU\" style=\"width: 1000px;\"/>"
   ]
  },
  {
   "cell_type": "code",
   "execution_count": null,
   "metadata": {},
   "outputs": [],
   "source": [
    "def f(a):\n",
    "    a[0] -= 1\n",
    "    a[1] += 1\n",
    "    \n",
    "lst = [3, 5] \n",
    "f(lst)  \n",
    "print(lst[0])    # 2\n",
    "print(lst[1])    # 6"
   ]
  },
  {
   "cell_type": "code",
   "execution_count": null,
   "metadata": {},
   "outputs": [],
   "source": [
    "def f(d):\n",
    "    d['a'] -= 1\n",
    "    d['b'] += 1    \n",
    "        \n",
    "my_dict = {'a':3  , 'b':5}    \n",
    "f(my_dict)\n",
    "print(my_dict['a'])    # 2\n",
    "print(my_dict['b'])    # 6"
   ]
  },
  {
   "cell_type": "code",
   "execution_count": null,
   "metadata": {},
   "outputs": [],
   "source": [
    "def f(a, b):\n",
    "    print(a, b)\n",
    "\n",
    "f(1, 2)          # 1 2\n",
    "f(a = 1 , b = 2) # 1 2\n",
    "f(1 , b = 2)     # 1 2\n",
    "\n",
    "# f(2 , a = 1)   # f() got multiple values for argument 'a'\n"
   ]
  },
  {
   "cell_type": "markdown",
   "metadata": {},
   "source": [
    "<img src=\"images/2-1functions_2019-page-011.jpg\" alt=\"SRTTU\" style=\"width: 1000px;\"/>"
   ]
  },
  {
   "cell_type": "code",
   "execution_count": null,
   "metadata": {},
   "outputs": [],
   "source": [
    "def f(a, b=5, c=7) :\n",
    "    print(a,b,c)\n",
    "    \n",
    "f(1)             # 1  5  7\n",
    "f(1, 3)          # 1  3  7 \n",
    "f(1, 3, 5)       # 1  3  5\n",
    "f(1, c=9)        # 1  5  9 \n",
    "f(b=3, c=5 ,a=1) # 1 3  5\n",
    "\n",
    "# f(1,b=2,5)  # positional argument follows keyword argument\n"
   ]
  },
  {
   "cell_type": "code",
   "execution_count": null,
   "metadata": {},
   "outputs": [],
   "source": [
    "# keyword inly argument\n",
    "\n",
    "def f(*, a=3):\n",
    "    print(a)\n",
    "    \n",
    "f()        # 3\n",
    "f(a = 5)   # 5\n",
    "#f(5)     #  f() takes 0 positional arguments but 1 was given\n"
   ]
  },
  {
   "cell_type": "code",
   "execution_count": null,
   "metadata": {},
   "outputs": [],
   "source": [
    "# var arguments\n",
    "\n",
    "def f(*t):\n",
    "    s = 0\n",
    "    for i in t:\n",
    "        s += i\n",
    "    print(s)        \n",
    "    \n",
    "f(1, 2, 3)       # 6\n",
    "f(5, 8)         # 13"
   ]
  },
  {
   "cell_type": "code",
   "execution_count": null,
   "metadata": {},
   "outputs": [],
   "source": [
    "def add(a, b, *more):\n",
    "    r = a + b + sum(more)\n",
    "    print(r)\n",
    "\n",
    "add(1, 2, 3)   # 6\n",
    "add(5, 8)      # 13\n",
    "add(4, 5, 7, 9, 12) # 37"
   ]
  },
  {
   "cell_type": "code",
   "execution_count": null,
   "metadata": {},
   "outputs": [],
   "source": [
    "def f(a, b, *more):\n",
    "    print(more)\n",
    "\n",
    "    \n",
    "f(1,2,3,4,5)  # (3, 4, 5)"
   ]
  },
  {
   "cell_type": "code",
   "execution_count": null,
   "metadata": {},
   "outputs": [],
   "source": [
    "def f(*t , x=9):\n",
    "    print(x,t)    \n",
    "\n",
    "f(1, 2, x = 3)   # 3  (1, 2)\n",
    "\n",
    "f(1, 2)          # 9  (1, 2)\n",
    "\n",
    "f(1, 2, 5, 7)    # 9  (1, 2, 5, 7)"
   ]
  },
  {
   "cell_type": "code",
   "execution_count": null,
   "metadata": {},
   "outputs": [],
   "source": [
    "def concat(*s , sep='.'):\n",
    "    return sep.join(s)\n",
    "\n",
    "print(concat('ali', 'reza'))                   # ali.reza\n",
    "print(concat('ali', 'reza', 'sara'))            # ali.reza.sara\n",
    "print(concat('ali', 'reza', 'sara', sep='/'))    # ali/reza/sara\n"
   ]
  },
  {
   "cell_type": "code",
   "execution_count": null,
   "metadata": {},
   "outputs": [],
   "source": [
    "def f(a ,*, b=2, c=3):\n",
    "    print(a,b,c)\n",
    "    \n",
    "f(1)         # 1  2  3\n",
    "f(1, b=8)    # 1  8  3\n",
    "\n",
    "# f(1, 3, c=4) \n",
    "'''\n",
    "f() takes 1 positional argument but 2 positional arguments \n",
    "(and 1 keyword-only argument) were given\n",
    "'''\n",
    "    \n",
    "# f(1, b=2, 4)    #  positional argument follows keyword argument\n"
   ]
  },
  {
   "cell_type": "code",
   "execution_count": null,
   "metadata": {},
   "outputs": [],
   "source": [
    "def f(a, b , **c):\n",
    "    print(a,b,c)\n",
    "    \n",
    "f(3, 4, x=5, y=9)      # 3 4 {'x': 5, 'y': 9}"
   ]
  },
  {
   "cell_type": "code",
   "execution_count": null,
   "metadata": {},
   "outputs": [],
   "source": [
    "def f(a, b , *c , **d):\n",
    "    print(a)  # 3\n",
    "    print(b)  # 4\n",
    "    print(c)  # (7, 1, 6)\n",
    "    print(d)  # {'x': 5, 'y': 7, 'z': 9}\n",
    "\n",
    "f(3 , 4, 7, 1, 6, x=5, y=7, z=9)  "
   ]
  },
  {
   "cell_type": "code",
   "execution_count": null,
   "metadata": {},
   "outputs": [],
   "source": [
    "count_dict = {\n",
    "         'L' : 0 ,\n",
    "         'U' :0\n",
    "        }\n",
    "\n",
    "def func_count(s):\n",
    "    for ch in s:\n",
    "        if ch.islower():\n",
    "            count_dict['L'] += 1\n",
    "        else:\n",
    "            count_dict['U'] += 1\n",
    "\n",
    "s = 'FarSHid'            \n",
    "func_count(s)            \n",
    "print(count_dict['L'])   # 4\n",
    "print(count_dict['U'])   # 3"
   ]
  },
  {
   "cell_type": "code",
   "execution_count": null,
   "metadata": {},
   "outputs": [],
   "source": [
    "def count_char(s):\n",
    "    d = {}\n",
    "    for i in s:\n",
    "        if i in d.keys():\n",
    "            d[i] +=1\n",
    "        else:\n",
    "            d[i] = 1\n",
    "    return d\n",
    "\n",
    "print(count_char('abbcfab'))       # {'a': 2, 'b': 3, 'c': 1, 'f': 1}  \n"
   ]
  },
  {
   "cell_type": "code",
   "execution_count": null,
   "metadata": {},
   "outputs": [],
   "source": [
    "def count_word(s):\n",
    "    d = {}\n",
    "    words = s.split()\n",
    "    for i in words:\n",
    "        if i in d:\n",
    "            d[i] += 1\n",
    "        else:            \n",
    "            d[i] = 1\n",
    "    return d\n",
    "            \n",
    "s = 'python created by rossum'\n",
    "print(count_word(s))  # {'python': 1, 'created': 1, 'by': 1, 'rossum': 1}\n"
   ]
  },
  {
   "cell_type": "code",
   "execution_count": null,
   "metadata": {},
   "outputs": [],
   "source": [
    "'''\n",
    "switch(a){\n",
    "   case 1:return 'one' ;break;\n",
    "   case 2:return 'two' ;break;\n",
    "   defualt :return 'nothing';\n",
    "}\n",
    "'''"
   ]
  },
  {
   "cell_type": "code",
   "execution_count": null,
   "metadata": {},
   "outputs": [],
   "source": [
    "def switch(a):\n",
    "    d = {1:'one' , 2 : 'two'}\n",
    "    return d.get(a,'nothing')\n",
    "\n",
    "print(switch(1))  # one\n",
    "print(switch(2))  # two\n",
    "print(switch(8))  # nothing"
   ]
  },
  {
   "cell_type": "code",
   "execution_count": null,
   "metadata": {},
   "outputs": [],
   "source": [
    "grade_student = [ \n",
    "                  {'id':1 , 'M':60 , 'F':40} , \n",
    "                  {'id':2 , 'M':80 , 'F':70}\n",
    "                ]\n",
    "\n",
    "def ave_grade(lst):\n",
    "    for d in lst:\n",
    "        n1 = d.pop('M')\n",
    "        n2 = d.pop('F')\n",
    "        d['Ave'] = (n1 + n2) / 2\n",
    "    return lst\n",
    "\n",
    "print(ave_grade(grade_student)) \n",
    "# [{'id':1 , 'Ave': 50.0} , {'id':2 , 'Ave': 75.0}"
   ]
  },
  {
   "cell_type": "code",
   "execution_count": null,
   "metadata": {},
   "outputs": [],
   "source": [
    "def reverse_string(s):\n",
    "    r = ''.join(reversed(s))\n",
    "    return r\n",
    "\n",
    "print(reverse_string('abc'))   # cba\n",
    "\n",
    "print(list(reversed('abc')))   # ['c', 'b', 'a']"
   ]
  },
  {
   "cell_type": "code",
   "execution_count": null,
   "metadata": {},
   "outputs": [],
   "source": [
    "def palindrome(s):\n",
    "    return  s == s[::-1]\n",
    "    \n",
    "print(palindrome('radar'))   # True\n",
    "print(palindrome('ali'))     # False"
   ]
  },
  {
   "cell_type": "code",
   "execution_count": null,
   "metadata": {},
   "outputs": [],
   "source": [
    "def remove_index(s,start,end):\n",
    "    if len(s) > end:\n",
    "        s = s[0: start] + s[end+1 ::]\n",
    "    return s    \n",
    "\n",
    "s= 'python'\n",
    "print(remove_index(s,1,3))   # pon"
   ]
  },
  {
   "cell_type": "code",
   "execution_count": null,
   "metadata": {},
   "outputs": [],
   "source": [
    "def remove_oddindex(s):\n",
    "    r = ''\n",
    "    for i in range(len(s)):\n",
    "        if i % 2 == 0:\n",
    "            r += s[i]\n",
    "    return r            \n",
    "\n",
    "print(remove_oddindex('python'))     # pto\n",
    "print(remove_oddindex('abcdefgh'))   # aceg"
   ]
  },
  {
   "cell_type": "code",
   "execution_count": null,
   "metadata": {},
   "outputs": [],
   "source": [
    "def unique_list(lst):\n",
    "    r = []\n",
    "    for i in lst:\n",
    "        if i not in r:\n",
    "            r.append(i)\n",
    "    return r            \n",
    "\n",
    "a = [1, 2, 3, 1, 4, 2]\n",
    "print(unique_list(a))            # [1, 2, 3, 4]"
   ]
  },
  {
   "cell_type": "code",
   "execution_count": null,
   "metadata": {},
   "outputs": [],
   "source": [
    "def f(n):\n",
    "    r = [1]\n",
    "    for i in range(2, n):\n",
    "        if (n % i) == 0:\n",
    "            r.append(i)\n",
    "    return r            \n",
    "\n",
    "lst = f(10)    \n",
    "print(lst)   # [1, 2, 5]"
   ]
  },
  {
   "cell_type": "code",
   "execution_count": null,
   "metadata": {},
   "outputs": [],
   "source": [
    "def  f(s):\n",
    "    w =' '\n",
    "    lst =[]\n",
    "    for i in range(0,len(s)):\n",
    "        if(s[i] != ' '):\n",
    "             w += s[i]\n",
    "        else:\n",
    "             lst.append(w)\n",
    "             w = ''\n",
    "    m = lst[0]\n",
    "    for j in range(0,len(lst)):\n",
    "        if (len(lst[j]) > len(m)):\n",
    "            m = lst[j]\n",
    "    return m            \n",
    "           \n",
    "s = 'python is an interpreted language.'\n",
    "print(f(s))      # interpreted "
   ]
  },
  {
   "cell_type": "code",
   "execution_count": null,
   "metadata": {},
   "outputs": [],
   "source": [
    "'''\n",
    "1\n",
    "1  1\n",
    "1  2  1\n",
    "1  3  3  1\n",
    "1  4  6  4   1\n",
    "\n",
    "'''"
   ]
  },
  {
   "cell_type": "code",
   "execution_count": null,
   "metadata": {},
   "outputs": [],
   "source": [
    "def pascal(n):\n",
    "    t = [1]\n",
    "    y = [0]\n",
    "    for x in range(max(n,0)):\n",
    "        print(t)\n",
    "        t =[i+j  for i,j in zip(t+y , y+t)]\n",
    "        \n",
    "pascal(9)"
   ]
  },
  {
   "cell_type": "code",
   "execution_count": null,
   "metadata": {},
   "outputs": [],
   "source": [
    "def unique_list(lst):\n",
    "    return list(set(lst))\n",
    "\n",
    "a = [1, 2, 3, 1, 4, 2]\n",
    "print(unique_list(a))            # [1, 2, 3, 4]"
   ]
  },
  {
   "cell_type": "code",
   "execution_count": null,
   "metadata": {},
   "outputs": [],
   "source": [
    "def f(s):\n",
    "    my_set = set()\n",
    "    w = s.split()\n",
    "    for i in w:\n",
    "        if i in my_set:\n",
    "            return i\n",
    "        else:\n",
    "            my_set.add(i)\n",
    "    return 'None'            \n",
    "\n",
    "s = 'sara ali reza ali taha reza'\n",
    "print(f(s))   # ali"
   ]
  },
  {
   "cell_type": "code",
   "execution_count": null,
   "metadata": {},
   "outputs": [],
   "source": [
    "def prime(n):\n",
    "    my_set = set()\n",
    "    lst = []\n",
    "    for i in range(2, n+1):\n",
    "        if i in my_set:\n",
    "            continue\n",
    "        for j in range(i*2, n+1, i):\n",
    "            my_set.add(j)     \n",
    "        lst.append(i)         \n",
    "    return lst        \n",
    "        \n",
    "\n",
    "n = 10\n",
    "print(prime(n))  #[2, 3, 5, 7]"
   ]
  },
  {
   "cell_type": "code",
   "execution_count": null,
   "metadata": {},
   "outputs": [],
   "source": [
    "def magic(m):\n",
    "    n = len(m[0])\n",
    "    lst = []\n",
    "    \n",
    "    lst.extend([sum(i) for i in m])\n",
    "    \n",
    "    for col in range(n):\n",
    "        lst.append(sum(row[col] for row in m))\n",
    "    \n",
    "    r = 0\n",
    "    for i in range(0,n):\n",
    "        r += m[i][i]\n",
    "    \n",
    "    lst.append(r)\n",
    "    \n",
    "    r2 = 0\n",
    "    for i in range(0,n):\n",
    "        r2 += m[i][n-1-i]\n",
    "    \n",
    "    lst.append(r2)\n",
    "    if len(set(lst)) > 1:\n",
    "        return False\n",
    "    return True\n",
    "     \n",
    "my_matrix = [\n",
    "     [2, 7, 6],\n",
    "     [9, 5, 1],\n",
    "     [4, 3, 8]\n",
    "    ]\n",
    "\n",
    "print(magic(my_matrix))  # True"
   ]
  },
  {
   "cell_type": "code",
   "execution_count": null,
   "metadata": {},
   "outputs": [],
   "source": [
    "print('--- PEP 484 --------')\n",
    "\n",
    "def greeting(name):\n",
    "    return 'Hello ' + name\n",
    "\n",
    "print(greeting('farshid'))         # Hello farshid\n"
   ]
  },
  {
   "cell_type": "code",
   "execution_count": null,
   "metadata": {},
   "outputs": [],
   "source": [
    "def greeting(name: str) -> str:\n",
    "    return 'Hello ' + name\n",
    "\n",
    "print(greeting('farshid'))         # Hello farshid\n"
   ]
  },
  {
   "cell_type": "code",
   "execution_count": null,
   "metadata": {},
   "outputs": [],
   "source": [
    "def add(x:int, y:int) ->int:\n",
    "    '''\n",
    "     sum two number\n",
    "    '''\n",
    "    print(x+y)\n",
    "\n",
    "add(2, 3)    \n",
    "print(add.__annotations__)\n",
    "# {'x': <class 'int'>, 'y': <class 'int'>, 'return': <class 'int'>}\n",
    "\n",
    "print(add.__doc__)   # sum two number"
   ]
  },
  {
   "cell_type": "markdown",
   "metadata": {},
   "source": [
    "<div class=\"alert alert-block alert-info\">\n",
    "<div style=\"direction:rtl;text-align:right;font-family:B Lotus, B Nazanin, Tahoma\"> دانشگاه شهید مدنی آذربایجان<br> برنامه نویسی مقدماتی با پایتون<br>امین گلزاری اسکوئی <br>1400-1401<br>\n",
    "</div>\n",
    "<a href=\"https://github.com/Amin-Golzari-Oskouei/Python-Programming-Course-Basic-2021\"> Codes and Projects (click here) </a>\n",
    "<a href=\"https://drive.google.com/drive/folders/1ZsQjBJJ4UAAp9zrGxm3c4qrhnvGBUYHw\">slides and videos (click here)</a>\n",
    "</div>"
   ]
  }
 ],
 "metadata": {
  "kernelspec": {
   "display_name": "Python 3",
   "language": "python",
   "name": "python3"
  },
  "language_info": {
   "codemirror_mode": {
    "name": "ipython",
    "version": 3
   },
   "file_extension": ".py",
   "mimetype": "text/x-python",
   "name": "python",
   "nbconvert_exporter": "python",
   "pygments_lexer": "ipython3",
   "version": "3.8.8"
  }
 },
 "nbformat": 4,
 "nbformat_minor": 4
}
