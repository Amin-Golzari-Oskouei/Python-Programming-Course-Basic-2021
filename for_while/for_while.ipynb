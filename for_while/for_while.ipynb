{
 "cells": [
  {
   "cell_type": "markdown",
   "metadata": {},
   "source": [
    "<img src=\"images/1-3-flow_2019-page-004.jpg\" alt=\"SRTTU\" style=\"width: 1000px;\"/>"
   ]
  },
  {
   "cell_type": "markdown",
   "metadata": {},
   "source": [
    "<img src=\"images/1-3-flow_2019-page-005.jpg\" alt=\"SRTTU\" style=\"width: 1000px;\"/>"
   ]
  },
  {
   "cell_type": "markdown",
   "metadata": {},
   "source": [
    "<img src=\"images/1-3-flow_2019-page-006.jpg\" alt=\"SRTTU\" style=\"width: 1000px;\"/>"
   ]
  },
  {
   "cell_type": "markdown",
   "metadata": {},
   "source": [
    "<img src=\"images/1-3-flow_2019-page-018.jpg\" alt=\"SRTTU\" style=\"width: 1000px;\"/>"
   ]
  },
  {
   "cell_type": "code",
   "execution_count": null,
   "metadata": {},
   "outputs": [],
   "source": [
    "\"\"\"\n",
    "Loop:\n",
    "    for\n",
    "    while\n",
    "\"\"\""
   ]
  },
  {
   "cell_type": "code",
   "execution_count": null,
   "metadata": {},
   "outputs": [],
   "source": [
    "for i in range(4):\n",
    "    print(i , end = ' ')      # 0 1 2 3 "
   ]
  },
  {
   "cell_type": "code",
   "execution_count": null,
   "metadata": {},
   "outputs": [],
   "source": [
    "for i in range(3,8):\n",
    "    print(i , end= ' ')      # 3 4 5 6 7 "
   ]
  },
  {
   "cell_type": "code",
   "execution_count": null,
   "metadata": {},
   "outputs": [],
   "source": [
    "for j in range(4,10,2):\n",
    "    print(j , end = ' ' )   # 5 7 9 "
   ]
  },
  {
   "cell_type": "code",
   "execution_count": null,
   "metadata": {},
   "outputs": [],
   "source": [
    "s = 'amin'\n",
    "for ch in s:\n",
    "    print(ch, end = ' ')   #a m i n"
   ]
  },
  {
   "cell_type": "code",
   "execution_count": null,
   "metadata": {},
   "outputs": [],
   "source": [
    "for _ in range(3):\n",
    "    print('hello', end = ' ')  #hello hello hello"
   ]
  },
  {
   "cell_type": "code",
   "execution_count": null,
   "metadata": {},
   "outputs": [],
   "source": [
    "for i in range(9,2,-3):\n",
    "     print(i , end=' ' )     # 9 6 3 "
   ]
  },
  {
   "cell_type": "code",
   "execution_count": null,
   "metadata": {},
   "outputs": [],
   "source": [
    "word = 'python'    \n",
    "c = 0 \n",
    "for i in word:\n",
    "    c+=1\n",
    "print(c)                # 6"
   ]
  },
  {
   "cell_type": "code",
   "execution_count": null,
   "metadata": {},
   "outputs": [],
   "source": [
    "word = 'alireza'    \n",
    "c = 0 \n",
    "for i in word:\n",
    "    if i =='a':\n",
    "        c+=1\n",
    "print(c)                # 2\n"
   ]
  },
  {
   "cell_type": "code",
   "execution_count": null,
   "metadata": {},
   "outputs": [],
   "source": [
    "name = 'amin'\n",
    "v = 'aeiou'\n",
    "c = 0\n",
    "for ch in name:\n",
    "    if ch in  v:\n",
    "        print(ch)    # a i \n",
    "        c += 1\n",
    "        \n",
    "print(c)             # 2"
   ]
  },
  {
   "cell_type": "code",
   "execution_count": null,
   "metadata": {},
   "outputs": [],
   "source": [
    "name = 'amin'\n",
    "v = 'aeiou'\n",
    "a = [ch for ch in name if ch in v]\n",
    "print(a)            # ['a', 'i']"
   ]
  },
  {
   "cell_type": "markdown",
   "metadata": {},
   "source": [
    "<img src=\"images/1-3-flow_2019-page-025.jpg\" alt=\"SRTTU\" style=\"width: 1000px;\"/>"
   ]
  },
  {
   "cell_type": "code",
   "execution_count": null,
   "metadata": {},
   "outputs": [],
   "source": [
    "for i in range(1,4):\n",
    "    for j in range(2,4):\n",
    "        print(j,end=' ')\n",
    "    print()\n",
    "    \n",
    "# 2 3 \n",
    "# 2 3 \n",
    "# 2 3  \n",
    "    \n",
    "'''\n",
    "i = 1  : j=2 , j=3\n",
    "i = 2  : j=2 , j=3\n",
    "i = 3  : j=2 , j=3\n",
    "'''"
   ]
  },
  {
   "cell_type": "code",
   "execution_count": null,
   "metadata": {},
   "outputs": [],
   "source": [
    "for i in range(1,4):\n",
    "    for j in range(2,4):\n",
    "        print(i,end=' ')\n",
    "    print()\n",
    "    \n",
    "# 1 1 \n",
    "# 2 2 \n",
    "# 3 3"
   ]
  },
  {
   "cell_type": "code",
   "execution_count": null,
   "metadata": {},
   "outputs": [],
   "source": [
    "for i in range(2,5):\n",
    "    for j in range(i):\n",
    "        print(j,end=' ')\n",
    "    print()\n",
    "    \n",
    "# 0 1 \n",
    "# 0 1 2 \n",
    "# 0 1 2 3 \n",
    "\n",
    "'''\n",
    "i = 2  : j=0 , j=1\n",
    "i = 3  : j=0 , j=1 , j=2\n",
    "i = 4  : j=0 , j=1 , j=2 , j=3\n",
    "'''"
   ]
  },
  {
   "cell_type": "code",
   "execution_count": null,
   "metadata": {},
   "outputs": [],
   "source": [
    "for i in range(2,5):\n",
    "    for j in range(1,i):\n",
    "        print(j , end = ' ')\n",
    "    print() \n",
    "    \n",
    "# 0 1 \n",
    "# 0 1 2 \n",
    "# 0 1 2 3 "
   ]
  },
  {
   "cell_type": "code",
   "execution_count": null,
   "metadata": {},
   "outputs": [],
   "source": [
    "print('\\n # break #') \n",
    "for i in range(5):\n",
    "    if i == 3 :\n",
    "        break\n",
    "    else:\n",
    "        print(i,end=' ')   # 0 1 2 "
   ]
  },
  {
   "cell_type": "code",
   "execution_count": null,
   "metadata": {},
   "outputs": [],
   "source": [
    "print('\\n # continue #')    \n",
    "\n",
    "for i in range(5):\n",
    "    if i == 3 :\n",
    "        continue\n",
    "    else:\n",
    "        print(i,end=' ')   # 0 1 2 4"
   ]
  },
  {
   "cell_type": "code",
   "execution_count": null,
   "metadata": {},
   "outputs": [],
   "source": [
    "for n in range(10,15):\n",
    "    for i in range(2,n):\n",
    "        if n % i == 0 :\n",
    "            print(n , end = ' ')   # 10,12,14\n",
    "            break"
   ]
  },
  {
   "cell_type": "code",
   "execution_count": null,
   "metadata": {},
   "outputs": [],
   "source": [
    "for i in range(3,8):\n",
    "    for j in range(2,i):\n",
    "        if i % j == 0:\n",
    "            break\n",
    "        else:\n",
    "            print(i , end = ' ')   # 3 5 5 5 7 7 7 7 7"
   ]
  },
  {
   "cell_type": "markdown",
   "metadata": {},
   "source": [
    "<img src=\"images/1-3-flow_2019-page-013.jpg\" alt=\"SRTTU\" style=\"width: 1000px;\"/>"
   ]
  },
  {
   "cell_type": "markdown",
   "metadata": {},
   "source": [
    "<img src=\"images/1-3-flow_2019-page-014.jpg\" alt=\"SRTTU\" style=\"width: 1000px;\"/>"
   ]
  },
  {
   "cell_type": "code",
   "execution_count": null,
   "metadata": {},
   "outputs": [],
   "source": [
    "print('# while #')\n",
    "      \n",
    "i = 1      \n",
    "while i<= 3:\n",
    "    print(i , end= ' ')    # 1 2 3\n",
    "    i += 1"
   ]
  },
  {
   "cell_type": "code",
   "execution_count": null,
   "metadata": {},
   "outputs": [],
   "source": [
    "n = 7\n",
    "while n >= 3:\n",
    "    print(n , end = ' ')    # 7 6 5 4 3 \n",
    "    n -= 1\n"
   ]
  },
  {
   "cell_type": "code",
   "execution_count": null,
   "metadata": {},
   "outputs": [],
   "source": [
    "s = 'abcdef'\n",
    "i = 0\n",
    "while True:\n",
    "   if s[i] == 'd' :\n",
    "       break\n",
    "   print(s[i] , end= ' ')  # a b c\n",
    "   i +=1"
   ]
  },
  {
   "cell_type": "code",
   "execution_count": null,
   "metadata": {},
   "outputs": [],
   "source": [
    "n = 8\n",
    "while n > 2:\n",
    "    n -= 1\n",
    "    if n == 5:\n",
    "        break\n",
    "    print(n , end = ' ')    #7 6"
   ]
  },
  {
   "cell_type": "code",
   "execution_count": null,
   "metadata": {},
   "outputs": [],
   "source": [
    "n = 8\n",
    "while n > 2:\n",
    "    n -= 1\n",
    "    if n == 5:\n",
    "        continue\n",
    "    print(n , end = ' ')    #7 6 4 3 2 "
   ]
  },
  {
   "cell_type": "code",
   "execution_count": null,
   "metadata": {},
   "outputs": [],
   "source": [
    "a = 0\n",
    "b = 1\n",
    "while a < 10:\n",
    "    print(a,end=' ')   # 0 1 2 4 8\n",
    "    a = b\n",
    "    b = a+b"
   ]
  },
  {
   "cell_type": "code",
   "execution_count": null,
   "metadata": {},
   "outputs": [],
   "source": [
    "a = 0\n",
    "b = 1\n",
    "while a < 10:\n",
    "    print(a,end=' ')   # 0  1  1  2  3  5  8\n",
    "    a  , b = b , a+b"
   ]
  },
  {
   "cell_type": "code",
   "execution_count": null,
   "metadata": {},
   "outputs": [],
   "source": [
    "# PEP8\n",
    "n = 1\n",
    "while n <= 3 :  print(n) ; n+=1"
   ]
  },
  {
   "cell_type": "code",
   "execution_count": null,
   "metadata": {},
   "outputs": [],
   "source": [
    "import random\n",
    "n = random.randrange(0,10)\n",
    "f = 'no'\n",
    "\n",
    "print(n)\n",
    "\n",
    "while  f == 'no' :\n",
    "    a = int(input('enter:'))\n",
    "    if a < n :\n",
    "        print('>')\n",
    "    elif a > n:\n",
    "        print('<')\n",
    "    else:\n",
    "        print('correct')\n",
    "        f = 'yes'\n",
    "\n",
    "print('Thank you.')        \n",
    "     "
   ]
  },
  {
   "cell_type": "markdown",
   "metadata": {},
   "source": [
    "<img src=\"images/1-3-flow_2019-page-040.jpg\" alt=\"SRTTU\" style=\"width: 1000px;\"/>"
   ]
  },
  {
   "cell_type": "markdown",
   "metadata": {},
   "source": [
    "<div class=\"alert alert-block alert-info\">\n",
    "<div style=\"direction:rtl;text-align:right;font-family:B Lotus, B Nazanin, Tahoma\"> دانشگاه شهید مدنی آذربایجان<br> برنامه نویسی مقدماتی با پایتون<br>امین گلزاری اسکوئی <br>1400-1401<br>\n",
    "</div>\n",
    "<a href=\"https://github.com/Amin-Golzari-Oskouei/Python-Programming-Course-Basic-2021\"> Codes and Projects (click here) </a>\n",
    "<a href=\"https://drive.google.com/drive/folders/1ZsQjBJJ4UAAp9zrGxm3c4qrhnvGBUYHw\">slides and videos (click here)</a>\n",
    "</div>"
   ]
  }
 ],
 "metadata": {
  "kernelspec": {
   "display_name": "Python 3",
   "language": "python",
   "name": "python3"
  },
  "language_info": {
   "codemirror_mode": {
    "name": "ipython",
    "version": 3
   },
   "file_extension": ".py",
   "mimetype": "text/x-python",
   "name": "python",
   "nbconvert_exporter": "python",
   "pygments_lexer": "ipython3",
   "version": "3.8.8"
  }
 },
 "nbformat": 4,
 "nbformat_minor": 4
}
