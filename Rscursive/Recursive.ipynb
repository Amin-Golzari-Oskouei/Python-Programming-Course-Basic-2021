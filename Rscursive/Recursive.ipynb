{
 "cells": [
  {
   "cell_type": "markdown",
   "metadata": {},
   "source": [
    "<img src=\"images/2-3_recursion_2019-page-003.jpg\" alt=\"SRTTU\" style=\"width: 1000px;\"/>"
   ]
  },
  {
   "cell_type": "markdown",
   "metadata": {},
   "source": [
    "<img src=\"images/2-3_recursion_2019-page-004.jpg\" alt=\"SRTTU\" style=\"width: 1000px;\"/>"
   ]
  },
  {
   "cell_type": "markdown",
   "metadata": {},
   "source": [
    "<img src=\"images/2-3_recursion_2019-page-005.jpg\" alt=\"SRTTU\" style=\"width: 1000px;\"/>"
   ]
  },
  {
   "cell_type": "code",
   "execution_count": null,
   "metadata": {},
   "outputs": [],
   "source": [
    "'''\n",
    "iterative:\n",
    "            n! = 1*2*3*...*n\n",
    "            \n",
    "recursive:\n",
    "            n! = n * (n-1)!\n",
    "            1! = 1\n",
    "\n",
    "\n",
    "3! = 3 * 2! = 3 * 2 = 6\n",
    "2! = 2 * 1! = 2 * 1 = 2\n",
    "1! = 1\n",
    "\n",
    "'''"
   ]
  },
  {
   "cell_type": "code",
   "execution_count": null,
   "metadata": {},
   "outputs": [],
   "source": [
    "def fact(n):\n",
    "    f = 1\n",
    "    if n == 0 :\n",
    "        print('1')\n",
    "    else:\n",
    "        for i in range(1, n+1):\n",
    "             f *= i\n",
    "        print(f)\n",
    "\n",
    "fact(60)   # 6  "
   ]
  },
  {
   "cell_type": "code",
   "execution_count": null,
   "metadata": {},
   "outputs": [],
   "source": [
    "def fact_rec(n):\n",
    "    if n == 1:\n",
    "        return 1\n",
    "    else:\n",
    "        return n * fact_rec(n-1)\n",
    "\n",
    "print(fact_rec(60))     # 6"
   ]
  },
  {
   "cell_type": "code",
   "execution_count": null,
   "metadata": {},
   "outputs": [],
   "source": [
    "'''\n",
    "2*3 = 2 + (2*2) = 2 + 4 = 6\n",
    "2*2 = 2 + (2*1) = 2 + 2 = 4\n",
    "2*1 = 2\n",
    "'''\n",
    "def mul(x,y):\n",
    "    if y == 0:\n",
    "        return 0\n",
    "    elif y == 1:\n",
    "        return x\n",
    "    else:\n",
    "        return x + mul(x,y-1)\n",
    "    \n",
    "print(mul(2,3))    #6 "
   ]
  },
  {
   "cell_type": "code",
   "execution_count": null,
   "metadata": {},
   "outputs": [],
   "source": [
    "'''\n",
    "2 ** 3 =  2 * (2**2) = 2 * 4 = 8\n",
    "2 ** 2 =  2 * (2**1) = 2 * 2 = 4\n",
    "2 ** 1 =  2\n",
    "'''\n",
    "def pow_rec(x,y):\n",
    "    if y == 0:\n",
    "        return 1\n",
    "    elif x == 0:\n",
    "        return 0\n",
    "    elif y == 1:\n",
    "        return x\n",
    "    else:\n",
    "        return x * pow_rec(x,y-1)\n",
    "    \n",
    "print(pow_rec(3,2))  # 9"
   ]
  },
  {
   "cell_type": "markdown",
   "metadata": {},
   "source": [
    "<img src=\"images/2-3_recursion_2019-page-039.jpg\" alt=\"SRTTU\" style=\"width: 1000px;\"/>"
   ]
  },
  {
   "cell_type": "code",
   "execution_count": null,
   "metadata": {},
   "outputs": [],
   "source": [
    "# fibonacci (10) : 0, 1, 1, 2, 3, 5, 8\n",
    "\n",
    "def fibo(n):\n",
    "    r = []\n",
    "    a = 0\n",
    "    b = 1\n",
    "    while a < n:\n",
    "        r.append(a)\n",
    "        a, b = b, a+b\n",
    "    return r\n",
    "\n",
    "print(fibo(10))  # [0, 1, 1, 2, 3, 5, 8]"
   ]
  },
  {
   "cell_type": "markdown",
   "metadata": {},
   "source": [
    "<img src=\"images/2-3_recursion_2019-page-041.jpg\" alt=\"SRTTU\" style=\"width: 1000px;\"/>"
   ]
  },
  {
   "cell_type": "code",
   "execution_count": null,
   "metadata": {},
   "outputs": [],
   "source": [
    "def fibo(n):\n",
    "    if n == 0:\n",
    "        return 0\n",
    "    elif n == 1:\n",
    "        return 1\n",
    "    else:\n",
    "        return fibo(n-1) + fibo(n-2)\n",
    "\n",
    "print(fibo(4))   # 3  "
   ]
  },
  {
   "cell_type": "markdown",
   "metadata": {},
   "source": [
    "<img src=\"images/2-3_recursion_2019-page-042.jpg\" alt=\"SRTTU\" style=\"width: 1000px;\"/>"
   ]
  },
  {
   "cell_type": "markdown",
   "metadata": {},
   "source": [
    "<img src=\"images/2-3_recursion_2019-page-043.jpg\" alt=\"SRTTU\" style=\"width: 1000px;\"/>"
   ]
  },
  {
   "cell_type": "markdown",
   "metadata": {},
   "source": [
    "<img src=\"images/2-3_recursion_2019-page-044.jpg\" alt=\"SRTTU\" style=\"width: 1000px;\"/>"
   ]
  },
  {
   "cell_type": "code",
   "execution_count": null,
   "metadata": {},
   "outputs": [],
   "source": [
    "memo = [0] * 200\n",
    "\n",
    "def fib(n):\n",
    "    if n == 0: \n",
    "        return 0\n",
    "    if n == 1:\n",
    "        return 1\n",
    "    if memo [n] == 0:\n",
    "        memo[n] = fib(n-1) + fib(n-2)\n",
    "    return memo[n]\n",
    "\n",
    "print(fib(60))"
   ]
  },
  {
   "cell_type": "code",
   "execution_count": null,
   "metadata": {},
   "outputs": [],
   "source": [
    "def f(lst):\n",
    "    if len(lst) == 1:\n",
    "        return lst[0]\n",
    "    else:\n",
    "        return lst[0] + f(lst[1:])    \n",
    "\n",
    "a = [2, 4, 5, 6, 7]\n",
    "print(f(a))   # 24\n",
    "\n",
    "'''\n",
    "f([2, 4, 5, 6, 7]) = 2 + f([4, 5, 6, 7]) =2 + 22 = 24\n",
    "f([4, 5, 6, 7])    = 4 + f([5, 6, 7]) = 4 + 18 = 22\n",
    "f([5, 6, 7])       = 5 + f([6, 7]) = 5 + 13 = 18\n",
    "f([6, 7])          = 6 + f([7])  = 6 + 7 = 13\n",
    "f([7])             = 7 \n",
    "'''"
   ]
  },
  {
   "cell_type": "code",
   "execution_count": null,
   "metadata": {},
   "outputs": [],
   "source": [
    "def sum_digits(n):\n",
    "    if n == 0:\n",
    "        return 0\n",
    "    else:\n",
    "        return n % 10 + sum_digits(int(n/10)) \n",
    "\n",
    "print(sum_digits(345))   # 345 = 3+4+5=12\n",
    "\n",
    "'''\n",
    "sum_digits(345) = 5 + sum_digits(34)= 5 + 7 = 12\n",
    "sum_digits(34)  = 4 + sum_digits(3) = 4 + 3 = 7\n",
    "sum_digits(3)   = 3 + sum_digits(0) = 3 + 0 = 3\n",
    "'''"
   ]
  },
  {
   "cell_type": "code",
   "execution_count": null,
   "metadata": {},
   "outputs": [],
   "source": [
    "# n + (n-2) +(n-4) +...\n",
    "\n",
    "def sum_series(n):\n",
    "    if n < 1 :\n",
    "        return 0\n",
    "    else:\n",
    "        return n + sum_series(n-2)\n",
    "\n",
    "print(sum_series(10))     # 10 + 8 + 6 + 4 + 2 = 30\n",
    " "
   ]
  },
  {
   "cell_type": "code",
   "execution_count": null,
   "metadata": {},
   "outputs": [],
   "source": [
    "def f(n,base):\n",
    "     s = '0123456789ABCDEF'\n",
    "     if n < base:\n",
    "         return s[n]\n",
    "     else:\n",
    "         return f(n//base , base) + s[ n % base]\n",
    "\n",
    "print(f(10,16))       # A\n",
    "print(f(25,16))       # 19\n",
    "\n",
    "'''\n",
    "f(25,16) = f(1,16) +s[9] = 1+9 = 19\n",
    "f(1,16)  = s[1]  = 1\n",
    "\n",
    "'''\n",
    "\n",
    "print(f(8,2))         # 1000\n",
    "'''\n",
    "f(8,2) = f(4,2) + s[0] = 100 + 0 = 1000\n",
    "f(4,2) = f(2,2) + s[0] = 10  + 0 = 100\n",
    "f(2,2) = f(1,2) + s[0] = 1   + 0 = 10\n",
    "f(1,2) = s[1] =1\n",
    "'''\n",
    "\n",
    "print(f(16,16))         # 10\n",
    "\n",
    "print(f(129,2))         # 10000001"
   ]
  },
  {
   "cell_type": "code",
   "execution_count": null,
   "metadata": {},
   "outputs": [],
   "source": [
    "def binary_search(lst, x, start=0, end=None):\n",
    "    if end is None:\n",
    "        end = len(lst) - 1\n",
    "    if start > end:\n",
    "        return False\n",
    "    mid = (start + end) // 2\n",
    "    if x == lst[mid]:\n",
    "        return mid\n",
    "    if x < lst[mid]:\n",
    "        return binary_search(lst, x, start, mid - 1)\n",
    "    return binary_search(lst, x, mid + 1, end)\n",
    "\n",
    "a = [2, 4, 7, 12, 19, 25, 38]\n",
    "print(binary_search(a, 19 ))    # 4\n",
    "print(binary_search(a, 4 ))     # 1\n",
    "print(binary_search(a, 20))     # False"
   ]
  },
  {
   "cell_type": "markdown",
   "metadata": {},
   "source": [
    "<img src=\"images/2-3_recursion_2019-page-037.jpg\" alt=\"SRTTU\" style=\"width: 1000px;\"/>"
   ]
  },
  {
   "cell_type": "markdown",
   "metadata": {},
   "source": [
    "<img src=\"images/2-3_recursion_2019-page-038.jpg\" alt=\"SRTTU\" style=\"width: 1000px;\"/>"
   ]
  },
  {
   "cell_type": "markdown",
   "metadata": {},
   "source": [
    "<img src=\"images/2-3_recursion_2019-page-062.jpg\" alt=\"SRTTU\" style=\"width: 1000px;\"/>"
   ]
  },
  {
   "cell_type": "markdown",
   "metadata": {},
   "source": [
    "<div class=\"alert alert-block alert-info\">\n",
    "<div style=\"direction:rtl;text-align:right;font-family:B Lotus, B Nazanin, Tahoma\"> دانشگاه شهید مدنی آذربایجان<br> برنامه نویسی مقدماتی با پایتون<br>امین گلزاری اسکوئی <br>1400-1401<br>\n",
    "</div>\n",
    "<a href=\"https://github.com/Amin-Golzari-Oskouei/Python-Programming-Course-Basic-2021\"> Codes and Projects (click here) </a>\n",
    "<a href=\"https://drive.google.com/drive/folders/1ZsQjBJJ4UAAp9zrGxm3c4qrhnvGBUYHw\">slides and videos (click here)</a>\n",
    "</div>"
   ]
  }
 ],
 "metadata": {
  "kernelspec": {
   "display_name": "Python 3",
   "language": "python",
   "name": "python3"
  },
  "language_info": {
   "codemirror_mode": {
    "name": "ipython",
    "version": 3
   },
   "file_extension": ".py",
   "mimetype": "text/x-python",
   "name": "python",
   "nbconvert_exporter": "python",
   "pygments_lexer": "ipython3",
   "version": "3.8.8"
  }
 },
 "nbformat": 4,
 "nbformat_minor": 4
}
