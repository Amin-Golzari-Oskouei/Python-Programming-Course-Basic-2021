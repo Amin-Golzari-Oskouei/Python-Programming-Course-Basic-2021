{
 "cells": [
  {
   "cell_type": "markdown",
   "metadata": {},
   "source": [
    "<img src=\"images/1-4-arrays_2019-page-003.jpg\" alt=\"SRTTU\" style=\"width: 1000px;\"/>"
   ]
  },
  {
   "cell_type": "code",
   "execution_count": null,
   "metadata": {},
   "outputs": [],
   "source": [
    "\"\"\"\n",
    "    Tuple\n",
    "\"\"\""
   ]
  },
  {
   "cell_type": "code",
   "execution_count": null,
   "metadata": {},
   "outputs": [],
   "source": [
    "t = ('English', 'History', 'Mathematics')\n",
    "print(t)\n",
    "print(type(t))   # <class 'tuple'>\n",
    "print(len(t))    # 3"
   ]
  },
  {
   "cell_type": "code",
   "execution_count": null,
   "metadata": {},
   "outputs": [],
   "source": [
    "print(t[0])      # English\n",
    "print(t[1:3])    # ('History', 'Mathematics')"
   ]
  },
  {
   "cell_type": "code",
   "execution_count": null,
   "metadata": {},
   "outputs": [],
   "source": [
    "print(t.index('English'))  # 0\n",
    "print( 'English' in t)     # True"
   ]
  },
  {
   "cell_type": "code",
   "execution_count": null,
   "metadata": {},
   "outputs": [],
   "source": [
    "# t[0] = 'art'  # error : tuples are immutable"
   ]
  },
  {
   "cell_type": "code",
   "execution_count": null,
   "metadata": {},
   "outputs": [],
   "source": [
    "for i in t:\n",
    "    print(f'I like to read {i}')\n",
    "'''\n",
    "I like to read English\n",
    "I like to read History\n",
    "I like to read Mathematics\n",
    "'''"
   ]
  },
  {
   "cell_type": "code",
   "execution_count": null,
   "metadata": {},
   "outputs": [],
   "source": [
    "t = (1, 9 , 2)    \n",
    "print(sum(t))      # 12\n",
    "print(max(t))      # 9\n",
    "print(min(t))      # 1\n",
    "print(t.count(9))  # 1\n",
    "print(t*2)         # (1, 9, 2, 1, 9, 2)"
   ]
  },
  {
   "cell_type": "code",
   "execution_count": null,
   "metadata": {},
   "outputs": [],
   "source": [
    "print(tuple(reversed(t)))  # (2, 9, 1)"
   ]
  },
  {
   "cell_type": "code",
   "execution_count": null,
   "metadata": {},
   "outputs": [],
   "source": [
    "t = (3,)\n",
    "\n",
    "s = ('a',)"
   ]
  },
  {
   "cell_type": "code",
   "execution_count": null,
   "metadata": {},
   "outputs": [],
   "source": [
    "t1 = (1,2)\n",
    "t2 = (2,1)\n",
    "print(t1 == t2)   # False"
   ]
  },
  {
   "cell_type": "code",
   "execution_count": null,
   "metadata": {},
   "outputs": [],
   "source": [
    "# append ?\n",
    "t = (4 , 6)\n",
    "t = t + (9,)\n",
    "print(t)     # (4, 6, 9)"
   ]
  },
  {
   "cell_type": "code",
   "execution_count": null,
   "metadata": {},
   "outputs": [],
   "source": [
    "# or\n",
    "t = (4 ,6)\n",
    "a = list(t)\n",
    "a.append(9)\n",
    "t = tuple(a)\n",
    "print(t)    # (4, 6, 9)"
   ]
  },
  {
   "cell_type": "code",
   "execution_count": null,
   "metadata": {},
   "outputs": [],
   "source": [
    "# remove ?\n",
    "t = (4, 7, 2, 9, 8)\n",
    "x = list(t)\n",
    "x.remove(2)\n",
    "t = tuple(x)\n",
    "print(t)     # (4, 7, 9, 8)"
   ]
  },
  {
   "cell_type": "code",
   "execution_count": null,
   "metadata": {},
   "outputs": [],
   "source": [
    "# unpack\n",
    "t = (4, 8)\n",
    "a,b = t\n",
    "print(a)   # 4\n",
    "print(b)   # 8"
   ]
  },
  {
   "cell_type": "code",
   "execution_count": null,
   "metadata": {},
   "outputs": [],
   "source": [
    "car = ('blue', 'auto', 7)\n",
    "color,_,a = car\n",
    "print(color)    # blue\n",
    "print(_)        # auto\n",
    "print(a)        # 7"
   ]
  },
  {
   "cell_type": "code",
   "execution_count": null,
   "metadata": {},
   "outputs": [],
   "source": [
    "# zip\n",
    "\n",
    "a = (1, 2)\n",
    "b = (3, 4)\n",
    "c = zip(a,b)\n",
    "x = list(c)\n",
    "print(x)           # [(1, 3), (2, 4)]\n",
    "print(x[0])        # (1,3)\n",
    "print(type(x[0]))  # <class 'tuple'>"
   ]
  },
  {
   "cell_type": "code",
   "execution_count": null,
   "metadata": {},
   "outputs": [],
   "source": [
    "# unzip\n",
    "z = [(1, 3), (2, 4)]\n",
    "u = zip(*z)\n",
    "print(list(u))    # [(1, 2), (3, 4)]"
   ]
  },
  {
   "cell_type": "code",
   "execution_count": null,
   "metadata": {},
   "outputs": [],
   "source": [
    "a = (1, 2 , 'A')\n",
    "b = (3, 4 , 8)\n",
    "c = zip(a,b)\n",
    "x = list(c)\n",
    "print(x)        # [(1, 3), (2, 4), ('A', 8)]"
   ]
  },
  {
   "cell_type": "code",
   "execution_count": null,
   "metadata": {},
   "outputs": [],
   "source": [
    "num = [8, 2 , (9,3) , 4 , (1,6,7) , 34]\n",
    "c = 0\n",
    "for i in num:\n",
    "    if isinstance(i , tuple):\n",
    "        continue\n",
    "    c += 1\n",
    "print(c)              # 4\n",
    "print(len(num) - c)   # 2"
   ]
  },
  {
   "cell_type": "code",
   "execution_count": null,
   "metadata": {},
   "outputs": [],
   "source": [
    "a = [(1,2,3) , (4,5,6)]\n",
    "\n",
    "b = [i[:-1]+(9,) for i in a]\n",
    "\n",
    "print(b)   # [(1, 2, 9), (4, 5, 9)]\n"
   ]
  },
  {
   "cell_type": "markdown",
   "metadata": {},
   "source": [
    "<div class=\"alert alert-block alert-info\">\n",
    "<div style=\"direction:rtl;text-align:right;font-family:B Lotus, B Nazanin, Tahoma\"> دانشگاه شهید مدنی آذربایجان<br> برنامه نویسی مقدماتی با پایتون<br>امین گلزاری اسکوئی <br>1400-1401<br>\n",
    "</div>\n",
    "<a href=\"https://github.com/Amin-Golzari-Oskouei/Python-Programming-Course-Basic-2021\"> Codes and Projects (click here) </a>\n",
    "<a href=\"https://drive.google.com/drive/folders/1ZsQjBJJ4UAAp9zrGxm3c4qrhnvGBUYHw\">slides and videos (click here)</a>\n",
    "</div>"
   ]
  }
 ],
 "metadata": {
  "kernelspec": {
   "display_name": "Python 3",
   "language": "python",
   "name": "python3"
  },
  "language_info": {
   "codemirror_mode": {
    "name": "ipython",
    "version": 3
   },
   "file_extension": ".py",
   "mimetype": "text/x-python",
   "name": "python",
   "nbconvert_exporter": "python",
   "pygments_lexer": "ipython3",
   "version": "3.8.8"
  }
 },
 "nbformat": 4,
 "nbformat_minor": 4
}
