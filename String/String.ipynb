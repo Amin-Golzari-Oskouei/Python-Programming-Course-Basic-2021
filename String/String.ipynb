{
 "cells": [
  {
   "cell_type": "markdown",
   "metadata": {},
   "source": [
    "<img src=\"images/1-2-types-2019-page-010.jpg\" alt=\"SRTTU\" style=\"width: 1000px;\"/>"
   ]
  },
  {
   "cell_type": "code",
   "execution_count": null,
   "metadata": {},
   "outputs": [],
   "source": [
    "s = 'abcde'\n",
    "print(s[1:3])   #bc\n",
    "print(s[1:-1])  #bcd\n",
    "print(s[1:4])   #bcd\n",
    "print(s[::-1])  #edcba\n",
    "print(s[:4])    #abcd\n",
    "print(s[1:])    #bcde"
   ]
  },
  {
   "cell_type": "code",
   "execution_count": 1,
   "metadata": {},
   "outputs": [
    {
     "name": "stdout",
     "output_type": "stream",
     "text": [
      "7\n",
      "z\n",
      "G\n",
      "71\n",
      "G\n"
     ]
    }
   ],
   "source": [
    "s = 'Golzari'\n",
    "print(len(s))       #7\n",
    "print(max(s))       #z\n",
    "print(min(s))       #G\n",
    "print(ord('G'))     #71\n",
    "print(chr(71))      #G\n"
   ]
  },
  {
   "cell_type": "code",
   "execution_count": 2,
   "metadata": {},
   "outputs": [
    {
     "name": "stdout",
     "output_type": "stream",
     "text": [
      "115\n",
      "97\n",
      "a\n"
     ]
    }
   ],
   "source": [
    "print(ord('s')) # 115\n",
    "print(ord('a')) # 97\n",
    "\n",
    "print(chr(97))  # a"
   ]
  },
  {
   "cell_type": "code",
   "execution_count": 4,
   "metadata": {},
   "outputs": [
    {
     "name": "stdout",
     "output_type": "stream",
     "text": [
      "True\n",
      "True\n",
      "False\n",
      "True\n",
      "True\n",
      "False\n"
     ]
    }
   ],
   "source": [
    "s = 'python'\n",
    "\n",
    "print('py' in s)        #True\n",
    "print('px' not in s)    #True\n",
    "print(s == 'Python')    #False\n",
    "print(s < 'sara')       #True\n",
    "\n",
    "print(s.islower())      #True\n",
    "print(s.isupper())      #False"
   ]
  },
  {
   "cell_type": "code",
   "execution_count": null,
   "metadata": {},
   "outputs": [],
   "source": [
    "s = 'python3'\n",
    "print(s.isalnum())     # True\n",
    "print(s.isalpha())     # False"
   ]
  },
  {
   "cell_type": "code",
   "execution_count": null,
   "metadata": {},
   "outputs": [],
   "source": [
    "s = '#python3'\n",
    "print(s.isalnum())     # False\n",
    "print(s.isalpha())     # False"
   ]
  },
  {
   "cell_type": "code",
   "execution_count": null,
   "metadata": {},
   "outputs": [],
   "source": [
    "s = '123'\n",
    "print(s.isdigit())     # True\n",
    "\n",
    "print('\\t'.isspace())   #True"
   ]
  },
  {
   "cell_type": "code",
   "execution_count": null,
   "metadata": {},
   "outputs": [],
   "source": [
    "s = '12a3bcd4'\n",
    "k = 0\n",
    "for ch in s:\n",
    "    if ch.isdigit() == True:\n",
    "        k += int(ch)\n",
    "\n",
    "print(k)         # 10 : 1+2+3+4"
   ]
  },
  {
   "cell_type": "code",
   "execution_count": null,
   "metadata": {},
   "outputs": [],
   "source": [
    "s = 'welcom to python'\n",
    "print(s.startswith('we'))   # True\n",
    "print(s.endswith('thon'))   # True\n",
    "\n",
    "print(s.find('o'))           # 4\n",
    "print(s.index('o'))          # 4\n",
    "\n",
    "print(s.find('f'))           # -1\n",
    "#print(s.index('f'))          # ValueError\n",
    "\n",
    "\n",
    "print(s.find('o',5))        # 8\n",
    "print(s.find('o',10))       # 14\n",
    "\n",
    "print(s.count('o'))         # 3\n",
    "print(s.count('o',5))       # 2"
   ]
  },
  {
   "cell_type": "code",
   "execution_count": null,
   "metadata": {},
   "outputs": [],
   "source": [
    "s = 'a.golzari@tabrizu.ac.ir'\n",
    "i = s.find('@')\n",
    "print(s[i+1:])            #tabrizu.ac.ir"
   ]
  },
  {
   "cell_type": "code",
   "execution_count": null,
   "metadata": {},
   "outputs": [],
   "source": [
    "s = 'welcom to python'\n",
    "print(s.capitalize())     # Welcom to python\n",
    "print(s.title())          # Welcom To Python"
   ]
  },
  {
   "cell_type": "code",
   "execution_count": null,
   "metadata": {},
   "outputs": [],
   "source": [
    "s = 'PyThon'\n",
    "print(s.lower())         # python\n",
    "print(s.upper())         # PYTHON\n",
    "print(s.swapcase())      # pYtHON"
   ]
  },
  {
   "cell_type": "code",
   "execution_count": null,
   "metadata": {},
   "outputs": [],
   "source": [
    "s = 'Mohammad Zadeh'\n",
    "print(s.replace('Zadeh','Nejad'))   \n",
    "#Mohammad Nejad"
   ]
  },
  {
   "cell_type": "code",
   "execution_count": null,
   "metadata": {},
   "outputs": [],
   "source": [
    "s = '$$pyt$hon$$$'\n",
    "print(s.strip('$'))     # pyt$hon\n",
    "print(s.lstrip('$'))    # pyt$hon$$$\n",
    "print(s.rstrip('$'))    # $$pyt$hon"
   ]
  },
  {
   "cell_type": "code",
   "execution_count": null,
   "metadata": {},
   "outputs": [],
   "source": [
    "s = '##ali$$$'\n",
    "print(s.lstrip('#').rstrip('$'))  # ali"
   ]
  },
  {
   "cell_type": "code",
   "execution_count": null,
   "metadata": {},
   "outputs": [],
   "source": [
    "s = 'www.sanjesh.org'\n",
    "print(s.lstrip('www.'))  # sanjesh.org"
   ]
  },
  {
   "cell_type": "code",
   "execution_count": null,
   "metadata": {},
   "outputs": [],
   "source": [
    "s = 'Python created by Rossum'\n",
    "a = s.split(' ')\n",
    "print(a)            # ['Python', 'created', 'by', 'Rossum']"
   ]
  },
  {
   "cell_type": "code",
   "execution_count": null,
   "metadata": {},
   "outputs": [],
   "source": [
    "b = ['Python', 'created', 'by', 'Rossum']\n",
    "c = ' '.join(b)\n",
    "print(c)         #Python created by Rossum"
   ]
  },
  {
   "cell_type": "code",
   "execution_count": null,
   "metadata": {},
   "outputs": [],
   "source": [
    "name = 'ali.py'\n",
    "a = name.split('.')\n",
    "print(a)           # ['ali', 'py']\n",
    "print(a[1])        # py\n",
    "print(repr(a[1]))  # 'py'"
   ]
  },
  {
   "cell_type": "code",
   "execution_count": null,
   "metadata": {},
   "outputs": [],
   "source": [
    "s = 'sara@gmail.com'\n",
    "u ,d = s.split('@')\n",
    "print(u)   # sara\n",
    "print(d)   # gmail.com"
   ]
  },
  {
   "cell_type": "code",
   "execution_count": null,
   "metadata": {},
   "outputs": [],
   "source": [
    "s = 'ali\\nreza'\n",
    "a = s.split('\\n')\n",
    "print(a)           # ['ali', 'reza']"
   ]
  },
  {
   "cell_type": "code",
   "execution_count": null,
   "metadata": {},
   "outputs": [],
   "source": [
    "b = s.splitlines()\n",
    "print(b)           # ['ali', 'reza']"
   ]
  },
  {
   "cell_type": "code",
   "execution_count": null,
   "metadata": {},
   "outputs": [],
   "source": [
    "s = '127.02.0.001'\n",
    "b = s.split('.')\n",
    "a = '.'.join([str(int(i)) for i in b])\n",
    "print(a)   # 127.2.0.1"
   ]
  },
  {
   "cell_type": "code",
   "execution_count": null,
   "metadata": {},
   "outputs": [],
   "source": [
    "f = '001'\n",
    "print(int(f))       # 1\n",
    "print(str(int(f)))  # 1"
   ]
  },
  {
   "cell_type": "code",
   "execution_count": null,
   "metadata": {},
   "outputs": [],
   "source": [
    "s = '12'\n",
    "print(s.zfill(5))   # 00012\n",
    "print(s.zfill(3))   # 012"
   ]
  },
  {
   "cell_type": "code",
   "execution_count": null,
   "metadata": {},
   "outputs": [],
   "source": [
    "s = 'sara'\n",
    "print(s.ljust(7,'+'))      # sara+++\n",
    "print(s.rjust(7,'+'))      # +++sara\n",
    "print(s.center(7,'+'))     # ++sara+"
   ]
  },
  {
   "cell_type": "code",
   "execution_count": 5,
   "metadata": {},
   "outputs": [
    {
     "name": "stdout",
     "output_type": "stream",
     "text": [
      "# format #\n",
      "Results of the 2020 referendum\n"
     ]
    }
   ],
   "source": [
    "print('# format #')\n",
    "year = 2020\n",
    "e   = 'referendum'\n",
    "print(f'Results of the {year} {e}') \n",
    "# Results of the 2020 referendum"
   ]
  },
  {
   "cell_type": "code",
   "execution_count": 8,
   "metadata": {},
   "outputs": [
    {
     "name": "stdout",
     "output_type": "stream",
     "text": [
      "name: sara family: golzari\n"
     ]
    }
   ],
   "source": [
    "fname = 'sara'\n",
    "lname = 'golzari'\n",
    "print('name: {0} family: {1}'.format(fname,lname))  \n",
    "# name: sara family: golzari"
   ]
  },
  {
   "cell_type": "code",
   "execution_count": null,
   "metadata": {},
   "outputs": [],
   "source": [
    "s = 'ali'\n",
    "print(f'name : {s}')     # ali\n",
    "print(f'name : {s!r}')   # 'ali'\n",
    "\n",
    "print('name : {}'.format(s))     # ali\n",
    "print('name : {!r}'.format(s))   # 'ali'"
   ]
  },
  {
   "cell_type": "code",
   "execution_count": null,
   "metadata": {},
   "outputs": [],
   "source": [
    "n = 14\n",
    "print('{:d}'.format(n))   # 14\n",
    "print('{0:d}'.format(n))  # 14\n",
    "\n",
    "print('{:5d}'.format(n))   #   14"
   ]
  },
  {
   "cell_type": "code",
   "execution_count": null,
   "metadata": {},
   "outputs": [],
   "source": [
    "a = 12\n",
    "b = 15\n",
    "print('{0:f} {1:d}'.format(a,b))   # 12.000000  15\n",
    "print('{1:f} {0:d}'.format(a,b))   # 15.000000  12\n",
    "print('{0:d} {1:f}'.format(a,b))   # 12 15.000000"
   ]
  },
  {
   "cell_type": "code",
   "execution_count": null,
   "metadata": {},
   "outputs": [],
   "source": [
    "f = 15.999\n",
    "print('{:.2f}'.format(f))   # 16.00"
   ]
  },
  {
   "cell_type": "code",
   "execution_count": null,
   "metadata": {},
   "outputs": [],
   "source": [
    "f = -15.999\n",
    "print('{:.2f}'.format(f))   # -16.00"
   ]
  },
  {
   "cell_type": "code",
   "execution_count": null,
   "metadata": {},
   "outputs": [],
   "source": [
    "p = 0.83\n",
    "print('{:.2%}'.format(p))  # 83.00%"
   ]
  },
  {
   "cell_type": "code",
   "execution_count": null,
   "metadata": {},
   "outputs": [],
   "source": [
    "a = 20000000\n",
    "print('{:,}'.format(a))     # 20,000,000"
   ]
  },
  {
   "cell_type": "code",
   "execution_count": null,
   "metadata": {},
   "outputs": [],
   "source": [
    "n = 14\n",
    "print('{:X}'.format(n))     # E  \n",
    "print('{:#X}'.format(n))    # 0XE  "
   ]
  },
  {
   "cell_type": "code",
   "execution_count": null,
   "metadata": {},
   "outputs": [],
   "source": [
    "print('{:b}'.format(n))     # 1110       \n",
    "print('{:#b}'.format(n))     # 0b1110  "
   ]
  },
  {
   "cell_type": "code",
   "execution_count": null,
   "metadata": {},
   "outputs": [],
   "source": [
    "n = 35\n",
    "print('{:*>6d}'.format(n))    # ****35\n",
    "print('{:*<6d}'.format(n))    # 35****\n",
    "print('{:*^6d}'.format(n))    # **35**"
   ]
  },
  {
   "cell_type": "markdown",
   "metadata": {},
   "source": [
    "<div class=\"alert alert-block alert-info\">\n",
    "<div style=\"direction:rtl;text-align:right;font-family:B Lotus, B Nazanin, Tahoma\"> دانشگاه شهید مدنی آذربایجان<br> برنامه نویسی مقدماتی با پایتون<br>امین گلزاری اسکوئی <br>1400-1401<br>\n",
    "</div>\n",
    "<a href=\"https://github.com/Amin-Golzari-Oskouei/Python-Programming-Course-Basic-2021\"> Codes and Projects (click here) </a>\n",
    "<a href=\"https://drive.google.com/drive/folders/1ZsQjBJJ4UAAp9zrGxm3c4qrhnvGBUYHw\">slides and videos (click here)</a>\n",
    "</div>"
   ]
  }
 ],
 "metadata": {
  "kernelspec": {
   "display_name": "Python 3",
   "language": "python",
   "name": "python3"
  },
  "language_info": {
   "codemirror_mode": {
    "name": "ipython",
    "version": 3
   },
   "file_extension": ".py",
   "mimetype": "text/x-python",
   "name": "python",
   "nbconvert_exporter": "python",
   "pygments_lexer": "ipython3",
   "version": "3.8.8"
  }
 },
 "nbformat": 4,
 "nbformat_minor": 4
}
